{
 "cells": [
  {
   "cell_type": "markdown",
   "metadata": {},
   "source": [
    "# VISION 2020: an SAT data analysis"
   ]
  },
  {
   "cell_type": "markdown",
   "metadata": {},
   "source": [
    "### Problem Statement"
   ]
  },
  {
   "cell_type": "markdown",
   "metadata": {},
   "source": [
    "A new format for the SAT was released in March 2016. The College Board - the organization that administers the SAT - seeks reccomendations on where money is best spent to improve SAT participation rates. Using data from 2017-18 SAT and ACT datasets I propose a two pronged approach for increasing participation by capitlizing on the existing participation trends and using data to dispell negative press."
   ]
  },
  {
   "cell_type": "markdown",
   "metadata": {},
   "source": [
    "#####  Project of Andrew Artz"
   ]
  },
  {
   "cell_type": "markdown",
   "metadata": {},
   "source": [
    "This project was completed in cooperation with General Assembly in June of 2019.\n",
    "\n",
    "-------\n"
   ]
  },
  {
   "cell_type": "markdown",
   "metadata": {},
   "source": [
    "### Executive Summary\n",
    "\n",
    "The methodlogy used for this project began with an inventory of all tools and datasets available.  Four datasets were identified as well as the websites of the College Board and ACT Inc.  The work of several thought-leaders in higher education were also bookmarked. Jupyter notebook was used to clean and document the data analysis of four .CSV files before merging them into one final workbook.  The notebook was then supplemented with addition demographic data from the US Census Bureau's 5 Year American Community Survey.  Visualizations were generated in Tableau and using Seaborn."
   ]
  },
  {
   "cell_type": "markdown",
   "metadata": {},
   "source": [
    "### Contents:\n",
    "- [2017 Data Import & Cleaning](#Data-Import-and-Cleaning)\n",
    "- [2018 Data Import and Cleaning](#2018-Data-Import-and-Cleaning)\n",
    "- [Exploratory Data Analysis](#Exploratory-Data-Analysis)\n",
    "- [Data Visualization](#Visualize-the-data)\n",
    "- [Descriptive and Inferential Statistics](#Descriptive-and-Inferential-Statistics)\n",
    "- [Outside Research](#Outside-Research)\n",
    "- [Conclusions and Recommendations](#Conclusions-and-Recommendations)\n",
    "\n",
    "\n",
    "\n"
   ]
  },
  {
   "cell_type": "markdown",
   "metadata": {},
   "source": [
    "The following libraries were used for this project: Numpy, Pandas, MatPlot, Seaborn, and Scipy"
   ]
  },
  {
   "cell_type": "code",
   "execution_count": 1,
   "metadata": {},
   "outputs": [],
   "source": [
    "# numpy, or Numerical Python, is a library for mathematical and logical operations.  \n",
    "# Using the `as` command we identify its shorthand abbreviation \"np\". \n",
    "# We may now use `np` in the future to call numpy without typing its whole name.\n",
    "import numpy as np\n",
    "\n",
    "# pandas, or python Data Analysis Library, is a library for using python to analyze data stored as an arrary.\n",
    "import pandas as pd\n",
    "\n",
    "# \"matplotlib.pyplot\" is a library for using python to visualize data\n",
    "import matplotlib.pyplot as plt\n",
    "\n",
    "# seaborn is another libary for using python to visualize data\n",
    "import seaborn as sns\n",
    "\n",
    "import scipy.stats as stats\n",
    "\n",
    "# keeps viz inline\n",
    "%matplotlib inline"
   ]
  },
  {
   "cell_type": "markdown",
   "metadata": {},
   "source": [
    "## 2017 Data Import and Cleaning"
   ]
  },
  {
   "cell_type": "markdown",
   "metadata": {},
   "source": [
    "The first step in the analysis was to import the provided datasets and prepare them for analysis.  Two datasets were provided, `sat_2017.csv` and `act_2017.csv`.  Both were imported and assigned to pandas dataframes."
   ]
  },
  {
   "cell_type": "code",
   "execution_count": 2,
   "metadata": {},
   "outputs": [],
   "source": [
    "act2017 = pd.read_csv(\"../data/act_2017.csv\")"
   ]
  },
  {
   "cell_type": "code",
   "execution_count": 3,
   "metadata": {},
   "outputs": [],
   "source": [
    "sat2017 = pd.read_csv(\"../data/sat_2017.csv\")"
   ]
  },
  {
   "cell_type": "markdown",
   "metadata": {},
   "source": [
    "Samples from both data frames were inspected for completeness and to facilitate a baseline understanding of what was contained in each .csv file.  "
   ]
  },
  {
   "cell_type": "code",
   "execution_count": 4,
   "metadata": {},
   "outputs": [
    {
     "data": {
      "text/html": [
       "<div>\n",
       "<style scoped>\n",
       "    .dataframe tbody tr th:only-of-type {\n",
       "        vertical-align: middle;\n",
       "    }\n",
       "\n",
       "    .dataframe tbody tr th {\n",
       "        vertical-align: top;\n",
       "    }\n",
       "\n",
       "    .dataframe thead th {\n",
       "        text-align: right;\n",
       "    }\n",
       "</style>\n",
       "<table border=\"1\" class=\"dataframe\">\n",
       "  <thead>\n",
       "    <tr style=\"text-align: right;\">\n",
       "      <th></th>\n",
       "      <th>State</th>\n",
       "      <th>Participation</th>\n",
       "      <th>English</th>\n",
       "      <th>Math</th>\n",
       "      <th>Reading</th>\n",
       "      <th>Science</th>\n",
       "      <th>Composite</th>\n",
       "    </tr>\n",
       "  </thead>\n",
       "  <tbody>\n",
       "    <tr>\n",
       "      <th>0</th>\n",
       "      <td>National</td>\n",
       "      <td>60%</td>\n",
       "      <td>20.3</td>\n",
       "      <td>20.7</td>\n",
       "      <td>21.4</td>\n",
       "      <td>21.0</td>\n",
       "      <td>21.0</td>\n",
       "    </tr>\n",
       "    <tr>\n",
       "      <th>1</th>\n",
       "      <td>Alabama</td>\n",
       "      <td>100%</td>\n",
       "      <td>18.9</td>\n",
       "      <td>18.4</td>\n",
       "      <td>19.7</td>\n",
       "      <td>19.4</td>\n",
       "      <td>19.2</td>\n",
       "    </tr>\n",
       "    <tr>\n",
       "      <th>2</th>\n",
       "      <td>Alaska</td>\n",
       "      <td>65%</td>\n",
       "      <td>18.7</td>\n",
       "      <td>19.8</td>\n",
       "      <td>20.4</td>\n",
       "      <td>19.9</td>\n",
       "      <td>19.8</td>\n",
       "    </tr>\n",
       "    <tr>\n",
       "      <th>3</th>\n",
       "      <td>Arizona</td>\n",
       "      <td>62%</td>\n",
       "      <td>18.6</td>\n",
       "      <td>19.8</td>\n",
       "      <td>20.1</td>\n",
       "      <td>19.8</td>\n",
       "      <td>19.7</td>\n",
       "    </tr>\n",
       "    <tr>\n",
       "      <th>4</th>\n",
       "      <td>Arkansas</td>\n",
       "      <td>100%</td>\n",
       "      <td>18.9</td>\n",
       "      <td>19.0</td>\n",
       "      <td>19.7</td>\n",
       "      <td>19.5</td>\n",
       "      <td>19.4</td>\n",
       "    </tr>\n",
       "    <tr>\n",
       "      <th>5</th>\n",
       "      <td>California</td>\n",
       "      <td>31%</td>\n",
       "      <td>22.5</td>\n",
       "      <td>22.7</td>\n",
       "      <td>23.1</td>\n",
       "      <td>22.2</td>\n",
       "      <td>22.8</td>\n",
       "    </tr>\n",
       "    <tr>\n",
       "      <th>6</th>\n",
       "      <td>Colorado</td>\n",
       "      <td>100%</td>\n",
       "      <td>20.1</td>\n",
       "      <td>20.3</td>\n",
       "      <td>21.2</td>\n",
       "      <td>20.9</td>\n",
       "      <td>20.8</td>\n",
       "    </tr>\n",
       "    <tr>\n",
       "      <th>7</th>\n",
       "      <td>Connecticut</td>\n",
       "      <td>31%</td>\n",
       "      <td>25.5</td>\n",
       "      <td>24.6</td>\n",
       "      <td>25.6</td>\n",
       "      <td>24.6</td>\n",
       "      <td>25.2</td>\n",
       "    </tr>\n",
       "    <tr>\n",
       "      <th>8</th>\n",
       "      <td>Delaware</td>\n",
       "      <td>18%</td>\n",
       "      <td>24.1</td>\n",
       "      <td>23.4</td>\n",
       "      <td>24.8</td>\n",
       "      <td>23.6</td>\n",
       "      <td>24.1</td>\n",
       "    </tr>\n",
       "    <tr>\n",
       "      <th>9</th>\n",
       "      <td>District of Columbia</td>\n",
       "      <td>32%</td>\n",
       "      <td>24.4</td>\n",
       "      <td>23.5</td>\n",
       "      <td>24.9</td>\n",
       "      <td>23.5</td>\n",
       "      <td>24.2</td>\n",
       "    </tr>\n",
       "  </tbody>\n",
       "</table>\n",
       "</div>"
      ],
      "text/plain": [
       "                  State Participation  English  Math  Reading  Science  \\\n",
       "0              National           60%     20.3  20.7     21.4     21.0   \n",
       "1               Alabama          100%     18.9  18.4     19.7     19.4   \n",
       "2                Alaska           65%     18.7  19.8     20.4     19.9   \n",
       "3               Arizona           62%     18.6  19.8     20.1     19.8   \n",
       "4              Arkansas          100%     18.9  19.0     19.7     19.5   \n",
       "5            California           31%     22.5  22.7     23.1     22.2   \n",
       "6              Colorado          100%     20.1  20.3     21.2     20.9   \n",
       "7           Connecticut           31%     25.5  24.6     25.6     24.6   \n",
       "8              Delaware           18%     24.1  23.4     24.8     23.6   \n",
       "9  District of Columbia           32%     24.4  23.5     24.9     23.5   \n",
       "\n",
       "  Composite  \n",
       "0      21.0  \n",
       "1      19.2  \n",
       "2      19.8  \n",
       "3      19.7  \n",
       "4      19.4  \n",
       "5      22.8  \n",
       "6      20.8  \n",
       "7      25.2  \n",
       "8      24.1  \n",
       "9      24.2  "
      ]
     },
     "execution_count": 4,
     "metadata": {},
     "output_type": "execute_result"
    }
   ],
   "source": [
    "act2017.head(10)"
   ]
  },
  {
   "cell_type": "code",
   "execution_count": 5,
   "metadata": {},
   "outputs": [
    {
     "data": {
      "text/html": [
       "<div>\n",
       "<style scoped>\n",
       "    .dataframe tbody tr th:only-of-type {\n",
       "        vertical-align: middle;\n",
       "    }\n",
       "\n",
       "    .dataframe tbody tr th {\n",
       "        vertical-align: top;\n",
       "    }\n",
       "\n",
       "    .dataframe thead th {\n",
       "        text-align: right;\n",
       "    }\n",
       "</style>\n",
       "<table border=\"1\" class=\"dataframe\">\n",
       "  <thead>\n",
       "    <tr style=\"text-align: right;\">\n",
       "      <th></th>\n",
       "      <th>State</th>\n",
       "      <th>Participation</th>\n",
       "      <th>Evidence-Based Reading and Writing</th>\n",
       "      <th>Math</th>\n",
       "      <th>Total</th>\n",
       "    </tr>\n",
       "  </thead>\n",
       "  <tbody>\n",
       "    <tr>\n",
       "      <th>0</th>\n",
       "      <td>Alabama</td>\n",
       "      <td>5%</td>\n",
       "      <td>593</td>\n",
       "      <td>572</td>\n",
       "      <td>1165</td>\n",
       "    </tr>\n",
       "    <tr>\n",
       "      <th>1</th>\n",
       "      <td>Alaska</td>\n",
       "      <td>38%</td>\n",
       "      <td>547</td>\n",
       "      <td>533</td>\n",
       "      <td>1080</td>\n",
       "    </tr>\n",
       "    <tr>\n",
       "      <th>2</th>\n",
       "      <td>Arizona</td>\n",
       "      <td>30%</td>\n",
       "      <td>563</td>\n",
       "      <td>553</td>\n",
       "      <td>1116</td>\n",
       "    </tr>\n",
       "    <tr>\n",
       "      <th>3</th>\n",
       "      <td>Arkansas</td>\n",
       "      <td>3%</td>\n",
       "      <td>614</td>\n",
       "      <td>594</td>\n",
       "      <td>1208</td>\n",
       "    </tr>\n",
       "    <tr>\n",
       "      <th>4</th>\n",
       "      <td>California</td>\n",
       "      <td>53%</td>\n",
       "      <td>531</td>\n",
       "      <td>524</td>\n",
       "      <td>1055</td>\n",
       "    </tr>\n",
       "    <tr>\n",
       "      <th>5</th>\n",
       "      <td>Colorado</td>\n",
       "      <td>11%</td>\n",
       "      <td>606</td>\n",
       "      <td>595</td>\n",
       "      <td>1201</td>\n",
       "    </tr>\n",
       "    <tr>\n",
       "      <th>6</th>\n",
       "      <td>Connecticut</td>\n",
       "      <td>100%</td>\n",
       "      <td>530</td>\n",
       "      <td>512</td>\n",
       "      <td>1041</td>\n",
       "    </tr>\n",
       "    <tr>\n",
       "      <th>7</th>\n",
       "      <td>Delaware</td>\n",
       "      <td>100%</td>\n",
       "      <td>503</td>\n",
       "      <td>492</td>\n",
       "      <td>996</td>\n",
       "    </tr>\n",
       "    <tr>\n",
       "      <th>8</th>\n",
       "      <td>District of Columbia</td>\n",
       "      <td>100%</td>\n",
       "      <td>482</td>\n",
       "      <td>468</td>\n",
       "      <td>950</td>\n",
       "    </tr>\n",
       "    <tr>\n",
       "      <th>9</th>\n",
       "      <td>Florida</td>\n",
       "      <td>83%</td>\n",
       "      <td>520</td>\n",
       "      <td>497</td>\n",
       "      <td>1017</td>\n",
       "    </tr>\n",
       "  </tbody>\n",
       "</table>\n",
       "</div>"
      ],
      "text/plain": [
       "                  State Participation  Evidence-Based Reading and Writing  \\\n",
       "0               Alabama            5%                                 593   \n",
       "1                Alaska           38%                                 547   \n",
       "2               Arizona           30%                                 563   \n",
       "3              Arkansas            3%                                 614   \n",
       "4            California           53%                                 531   \n",
       "5              Colorado           11%                                 606   \n",
       "6           Connecticut          100%                                 530   \n",
       "7              Delaware          100%                                 503   \n",
       "8  District of Columbia          100%                                 482   \n",
       "9               Florida           83%                                 520   \n",
       "\n",
       "   Math  Total  \n",
       "0   572   1165  \n",
       "1   533   1080  \n",
       "2   553   1116  \n",
       "3   594   1208  \n",
       "4   524   1055  \n",
       "5   595   1201  \n",
       "6   512   1041  \n",
       "7   492    996  \n",
       "8   468    950  \n",
       "9   497   1017  "
      ]
     },
     "execution_count": 5,
     "metadata": {},
     "output_type": "execute_result"
    }
   ],
   "source": [
    "sat2017.head(10)"
   ]
  },
  {
   "cell_type": "markdown",
   "metadata": {},
   "source": []
  },
  {
   "cell_type": "markdown",
   "metadata": {},
   "source": [
    "As both dataframes appeared to be in basic order several descriptive commands were run over the data to examine the datatypes and look for missing values."
   ]
  },
  {
   "cell_type": "markdown",
   "metadata": {},
   "source": [
    "##### ACT 2017:"
   ]
  },
  {
   "cell_type": "code",
   "execution_count": 6,
   "metadata": {},
   "outputs": [
    {
     "data": {
      "text/plain": [
       "State             object\n",
       "Participation     object\n",
       "English          float64\n",
       "Math             float64\n",
       "Reading          float64\n",
       "Science          float64\n",
       "Composite         object\n",
       "dtype: object"
      ]
     },
     "execution_count": 6,
     "metadata": {},
     "output_type": "execute_result"
    }
   ],
   "source": [
    "# `.dtypes` attribute provides you the data type for each of the columns in the data frame.\n",
    "# The data frame is *everything* you are working with in Pandas.\n",
    "act2017.dtypes"
   ]
  },
  {
   "cell_type": "markdown",
   "metadata": {},
   "source": [
    "`.shape` provides you with the total number of rows and columns, minus the header row and index column."
   ]
  },
  {
   "cell_type": "markdown",
   "metadata": {},
   "source": [
    "act2017.shape"
   ]
  },
  {
   "cell_type": "markdown",
   "metadata": {},
   "source": [
    "`.isnull` provides you with a printout of whether any data is missing from the data frame.  The method `.sum()` provides the total number of cells within the dataframe that are empty. Using this method is much more efficient"
   ]
  },
  {
   "cell_type": "code",
   "execution_count": 7,
   "metadata": {},
   "outputs": [
    {
     "data": {
      "text/plain": [
       "State            0\n",
       "Participation    0\n",
       "English          0\n",
       "Math             0\n",
       "Reading          0\n",
       "Science          0\n",
       "Composite        0\n",
       "dtype: int64"
      ]
     },
     "execution_count": 7,
     "metadata": {},
     "output_type": "execute_result"
    }
   ],
   "source": [
    "act2017.isnull().sum()"
   ]
  },
  {
   "cell_type": "markdown",
   "metadata": {},
   "source": [
    "There are no null values, but if there were the `.mean()` method would provide the percentage of the total column with a null. \n"
   ]
  },
  {
   "cell_type": "code",
   "execution_count": 8,
   "metadata": {},
   "outputs": [
    {
     "data": {
      "text/plain": [
       "State            0.0\n",
       "Participation    0.0\n",
       "English          0.0\n",
       "Math             0.0\n",
       "Reading          0.0\n",
       "Science          0.0\n",
       "Composite        0.0\n",
       "dtype: float64"
      ]
     },
     "execution_count": 8,
     "metadata": {},
     "output_type": "execute_result"
    }
   ],
   "source": [
    "act2017.isnull().mean()"
   ]
  },
  {
   "cell_type": "markdown",
   "metadata": {},
   "source": [
    "`.describe()` provides descriptive statsistics for each of the columns in the data frame, so long as every object is a numerical value (either and int or float).  If any value is nonumeric (string, etc) the method will not return an output"
   ]
  },
  {
   "cell_type": "code",
   "execution_count": 9,
   "metadata": {},
   "outputs": [
    {
     "data": {
      "text/html": [
       "<div>\n",
       "<style scoped>\n",
       "    .dataframe tbody tr th:only-of-type {\n",
       "        vertical-align: middle;\n",
       "    }\n",
       "\n",
       "    .dataframe tbody tr th {\n",
       "        vertical-align: top;\n",
       "    }\n",
       "\n",
       "    .dataframe thead th {\n",
       "        text-align: right;\n",
       "    }\n",
       "</style>\n",
       "<table border=\"1\" class=\"dataframe\">\n",
       "  <thead>\n",
       "    <tr style=\"text-align: right;\">\n",
       "      <th></th>\n",
       "      <th>English</th>\n",
       "      <th>Math</th>\n",
       "      <th>Reading</th>\n",
       "      <th>Science</th>\n",
       "    </tr>\n",
       "  </thead>\n",
       "  <tbody>\n",
       "    <tr>\n",
       "      <th>count</th>\n",
       "      <td>52.000000</td>\n",
       "      <td>52.000000</td>\n",
       "      <td>52.000000</td>\n",
       "      <td>52.000000</td>\n",
       "    </tr>\n",
       "    <tr>\n",
       "      <th>mean</th>\n",
       "      <td>20.919231</td>\n",
       "      <td>21.173077</td>\n",
       "      <td>22.001923</td>\n",
       "      <td>21.040385</td>\n",
       "    </tr>\n",
       "    <tr>\n",
       "      <th>std</th>\n",
       "      <td>2.332132</td>\n",
       "      <td>1.963602</td>\n",
       "      <td>2.048672</td>\n",
       "      <td>3.151113</td>\n",
       "    </tr>\n",
       "    <tr>\n",
       "      <th>min</th>\n",
       "      <td>16.300000</td>\n",
       "      <td>18.000000</td>\n",
       "      <td>18.100000</td>\n",
       "      <td>2.300000</td>\n",
       "    </tr>\n",
       "    <tr>\n",
       "      <th>25%</th>\n",
       "      <td>19.000000</td>\n",
       "      <td>19.400000</td>\n",
       "      <td>20.475000</td>\n",
       "      <td>19.900000</td>\n",
       "    </tr>\n",
       "    <tr>\n",
       "      <th>50%</th>\n",
       "      <td>20.550000</td>\n",
       "      <td>20.900000</td>\n",
       "      <td>21.700000</td>\n",
       "      <td>21.150000</td>\n",
       "    </tr>\n",
       "    <tr>\n",
       "      <th>75%</th>\n",
       "      <td>23.300000</td>\n",
       "      <td>23.100000</td>\n",
       "      <td>24.125000</td>\n",
       "      <td>22.525000</td>\n",
       "    </tr>\n",
       "    <tr>\n",
       "      <th>max</th>\n",
       "      <td>25.500000</td>\n",
       "      <td>25.300000</td>\n",
       "      <td>26.000000</td>\n",
       "      <td>24.900000</td>\n",
       "    </tr>\n",
       "  </tbody>\n",
       "</table>\n",
       "</div>"
      ],
      "text/plain": [
       "         English       Math    Reading    Science\n",
       "count  52.000000  52.000000  52.000000  52.000000\n",
       "mean   20.919231  21.173077  22.001923  21.040385\n",
       "std     2.332132   1.963602   2.048672   3.151113\n",
       "min    16.300000  18.000000  18.100000   2.300000\n",
       "25%    19.000000  19.400000  20.475000  19.900000\n",
       "50%    20.550000  20.900000  21.700000  21.150000\n",
       "75%    23.300000  23.100000  24.125000  22.525000\n",
       "max    25.500000  25.300000  26.000000  24.900000"
      ]
     },
     "execution_count": 9,
     "metadata": {},
     "output_type": "execute_result"
    }
   ],
   "source": [
    "act2017.describe()\n"
   ]
  },
  {
   "cell_type": "markdown",
   "metadata": {},
   "source": [
    "In this case we may observe that although \"participation\" and \"composite\" contain numerical values, they have not been input as either int or float.  "
   ]
  },
  {
   "cell_type": "markdown",
   "metadata": {},
   "source": [
    "##### SAT 2017:"
   ]
  },
  {
   "cell_type": "code",
   "execution_count": 10,
   "metadata": {},
   "outputs": [
    {
     "data": {
      "text/plain": [
       "State                                 object\n",
       "Participation                         object\n",
       "Evidence-Based Reading and Writing     int64\n",
       "Math                                   int64\n",
       "Total                                  int64\n",
       "dtype: object"
      ]
     },
     "execution_count": 10,
     "metadata": {},
     "output_type": "execute_result"
    }
   ],
   "source": [
    "sat2017.dtypes"
   ]
  },
  {
   "cell_type": "code",
   "execution_count": 11,
   "metadata": {},
   "outputs": [
    {
     "data": {
      "text/plain": [
       "(51, 5)"
      ]
     },
     "execution_count": 11,
     "metadata": {},
     "output_type": "execute_result"
    }
   ],
   "source": [
    "sat2017.shape"
   ]
  },
  {
   "cell_type": "code",
   "execution_count": 12,
   "metadata": {},
   "outputs": [
    {
     "data": {
      "text/plain": [
       "State                                 0\n",
       "Participation                         0\n",
       "Evidence-Based Reading and Writing    0\n",
       "Math                                  0\n",
       "Total                                 0\n",
       "dtype: int64"
      ]
     },
     "execution_count": 12,
     "metadata": {},
     "output_type": "execute_result"
    }
   ],
   "source": [
    "sat2017.isnull().sum()"
   ]
  },
  {
   "cell_type": "code",
   "execution_count": 13,
   "metadata": {},
   "outputs": [
    {
     "data": {
      "text/html": [
       "<div>\n",
       "<style scoped>\n",
       "    .dataframe tbody tr th:only-of-type {\n",
       "        vertical-align: middle;\n",
       "    }\n",
       "\n",
       "    .dataframe tbody tr th {\n",
       "        vertical-align: top;\n",
       "    }\n",
       "\n",
       "    .dataframe thead th {\n",
       "        text-align: right;\n",
       "    }\n",
       "</style>\n",
       "<table border=\"1\" class=\"dataframe\">\n",
       "  <thead>\n",
       "    <tr style=\"text-align: right;\">\n",
       "      <th></th>\n",
       "      <th>Evidence-Based Reading and Writing</th>\n",
       "      <th>Math</th>\n",
       "      <th>Total</th>\n",
       "    </tr>\n",
       "  </thead>\n",
       "  <tbody>\n",
       "    <tr>\n",
       "      <th>count</th>\n",
       "      <td>51.000000</td>\n",
       "      <td>51.000000</td>\n",
       "      <td>51.000000</td>\n",
       "    </tr>\n",
       "    <tr>\n",
       "      <th>mean</th>\n",
       "      <td>569.117647</td>\n",
       "      <td>547.627451</td>\n",
       "      <td>1126.098039</td>\n",
       "    </tr>\n",
       "    <tr>\n",
       "      <th>std</th>\n",
       "      <td>45.666901</td>\n",
       "      <td>84.909119</td>\n",
       "      <td>92.494812</td>\n",
       "    </tr>\n",
       "    <tr>\n",
       "      <th>min</th>\n",
       "      <td>482.000000</td>\n",
       "      <td>52.000000</td>\n",
       "      <td>950.000000</td>\n",
       "    </tr>\n",
       "    <tr>\n",
       "      <th>25%</th>\n",
       "      <td>533.500000</td>\n",
       "      <td>522.000000</td>\n",
       "      <td>1055.500000</td>\n",
       "    </tr>\n",
       "    <tr>\n",
       "      <th>50%</th>\n",
       "      <td>559.000000</td>\n",
       "      <td>548.000000</td>\n",
       "      <td>1107.000000</td>\n",
       "    </tr>\n",
       "    <tr>\n",
       "      <th>75%</th>\n",
       "      <td>613.000000</td>\n",
       "      <td>599.000000</td>\n",
       "      <td>1212.000000</td>\n",
       "    </tr>\n",
       "    <tr>\n",
       "      <th>max</th>\n",
       "      <td>644.000000</td>\n",
       "      <td>651.000000</td>\n",
       "      <td>1295.000000</td>\n",
       "    </tr>\n",
       "  </tbody>\n",
       "</table>\n",
       "</div>"
      ],
      "text/plain": [
       "       Evidence-Based Reading and Writing        Math        Total\n",
       "count                           51.000000   51.000000    51.000000\n",
       "mean                           569.117647  547.627451  1126.098039\n",
       "std                             45.666901   84.909119    92.494812\n",
       "min                            482.000000   52.000000   950.000000\n",
       "25%                            533.500000  522.000000  1055.500000\n",
       "50%                            559.000000  548.000000  1107.000000\n",
       "75%                            613.000000  599.000000  1212.000000\n",
       "max                            644.000000  651.000000  1295.000000"
      ]
     },
     "execution_count": 13,
     "metadata": {},
     "output_type": "execute_result"
    }
   ],
   "source": [
    "sat2017.describe()\n",
    "# particiaption % is not shown"
   ]
  },
  {
   "cell_type": "markdown",
   "metadata": {},
   "source": [
    "**Preliminary evaluation of the data**\n",
    "\n",
    "*ACT 2017:*\n",
    "\n",
    "This data frame contains what appears to be ACT scores for scores for all 50 states, the District of Columbia, and a national observation.  The data frame was loaded from a provided .CSV file and appears to have loaded correctly.  The percentage of the statewide participation is provided, along with the statewide average of English, Math, Reading, and Science scores. A Composite Score calculated as the mean of each of the four previous scores.  Within the 52 rows and 7 columns there are string and float data types.  There are no missing values, but there does appear to minor errors in the data and issues with data formatting that should be resolved prior to data analysis. The state of Maryland has a questionably low average Science score. All column names are single words in title case, a percentage symbol is used in \"Participation%\".    \n",
    "\n",
    "*SAT 2017:*\n",
    "\n",
    "This data frame contains what appears to be SAT scores for scores for all 50 states and the District of Columbia.  The data frame was loaded from a provided .CSV file and appears to have loaded correctly.  The percentage of statewide participation is included, along with the statewide average of evidence-based reading and writing, math, and a total score.  Within the 51 rows and 5 columns there are there are string and float data types.  There are no missing values, but there does appear to minor errors in the data and issues with data formatting that should be resolved prior to data analysis.  The state of Maryland has a questionably low average Math score.  Column names may contain multiple words and symbols such as percentage symbols and hyphens. All column names are in title case.   \n",
    "\n",
    "*Comparrision:*\n",
    "\n",
    "Both data frames appear to be mostly complete with minor errors. Both data frames contain information on statewide participation. Neither data frame contains missing values. Within these data frames there are many similarities.  This makes sense given the nature of the information they contain.  Even so, there are several key differences that may affect the types of analysis that may be completed. Most notably, where the ACT contains a composite score, calculated as the mean of four subject areas, the SAT contains a total score which is the sum of only two subject areas. Unlike the ACT, the SAT data frame does not include a national average.  *If documentation were found to confirm the process of how such scores were calculated*, a national score may be produced for the SAT as well.  \n",
    "\n",
    "*Conclusion:* \n",
    "\n",
    "Both data sets contain information on standardized tests used for undergraduate college admissions.  There does not appear to be any missing data in either of the 2017 data frames. The data appears to be compelte with minor errors that will need to be corrected before further edits may take place.  A possible use for such a datset may be to provide the College Board with business intellengence and analytics that may increase national SAT participation.  \n",
    "\n"
   ]
  },
  {
   "cell_type": "markdown",
   "metadata": {},
   "source": [
    "**Answers to project one, section four questions**\n"
   ]
  },
  {
   "cell_type": "markdown",
   "metadata": {},
   "source": [
    ">There does not appear to be any missing data in either of the 2017 data frames. \n",
    ">\n",
    "> In both data frames, Maryland has incorrect values.\n",
    ">\n",
    "> There is an error in the naming of the District of Columbia.\n",
    ">\n",
    "> Paricipation is a string data type as it contains nonnumerical values.\n",
    ">"
   ]
  },
  {
   "cell_type": "markdown",
   "metadata": {},
   "source": [
    "#### 6. Fix Incorrect Data Types"
   ]
  },
  {
   "cell_type": "code",
   "execution_count": 14,
   "metadata": {},
   "outputs": [],
   "source": [
    "# lambda functions are throwaway functions that are not stored for further use\n",
    "act2017['Participation'] = act2017['Participation'].map(lambda p_cell: p_cell.rstrip('%'))\n",
    "#(8)                       (1)                     (2)  (3)    (4)  (5)      (6)     (7)\n",
    "\n",
    "# (1) Identifies the 'Participation' column (a series within the \"act2017\" dataframe) as the target of the following code\n",
    "# (2) .map() a method that temporarily converts the selected objects to a list so that they may be maniplulated through further iterations\n",
    "# (3) lambda is a function that may apply one or more arguments to a single value (like the iteratble we made with the `.map()` method!!)\n",
    "# (4) A temporary identifier of the object we have mapped and chosen to work on using lambda.\n",
    "# (5) For the temporary identifier, do the things to the right\n",
    "# (6) A method that removes *something* from the right (the tail) of a variable\n",
    "# (7) This argument is the *something* that we are looking to remove, the percent symbol!\n",
    "# (8) Make the new value of 'Particiaption' equal to the results of the code we just ran!\n",
    "\n",
    "# `.rstrip()` was found on this page: https://stackoverflow.com/questions/13682044/remove-unwanted-parts-from-strings-in-a-column"
   ]
  },
  {
   "cell_type": "code",
   "execution_count": 15,
   "metadata": {},
   "outputs": [
    {
     "data": {
      "text/html": [
       "<div>\n",
       "<style scoped>\n",
       "    .dataframe tbody tr th:only-of-type {\n",
       "        vertical-align: middle;\n",
       "    }\n",
       "\n",
       "    .dataframe tbody tr th {\n",
       "        vertical-align: top;\n",
       "    }\n",
       "\n",
       "    .dataframe thead th {\n",
       "        text-align: right;\n",
       "    }\n",
       "</style>\n",
       "<table border=\"1\" class=\"dataframe\">\n",
       "  <thead>\n",
       "    <tr style=\"text-align: right;\">\n",
       "      <th></th>\n",
       "      <th>State</th>\n",
       "      <th>Participation</th>\n",
       "      <th>English</th>\n",
       "      <th>Math</th>\n",
       "      <th>Reading</th>\n",
       "      <th>Science</th>\n",
       "      <th>Composite</th>\n",
       "    </tr>\n",
       "  </thead>\n",
       "  <tbody>\n",
       "    <tr>\n",
       "      <th>0</th>\n",
       "      <td>National</td>\n",
       "      <td>60</td>\n",
       "      <td>20.3</td>\n",
       "      <td>20.7</td>\n",
       "      <td>21.4</td>\n",
       "      <td>21.0</td>\n",
       "      <td>21.0</td>\n",
       "    </tr>\n",
       "    <tr>\n",
       "      <th>1</th>\n",
       "      <td>Alabama</td>\n",
       "      <td>100</td>\n",
       "      <td>18.9</td>\n",
       "      <td>18.4</td>\n",
       "      <td>19.7</td>\n",
       "      <td>19.4</td>\n",
       "      <td>19.2</td>\n",
       "    </tr>\n",
       "    <tr>\n",
       "      <th>2</th>\n",
       "      <td>Alaska</td>\n",
       "      <td>65</td>\n",
       "      <td>18.7</td>\n",
       "      <td>19.8</td>\n",
       "      <td>20.4</td>\n",
       "      <td>19.9</td>\n",
       "      <td>19.8</td>\n",
       "    </tr>\n",
       "    <tr>\n",
       "      <th>3</th>\n",
       "      <td>Arizona</td>\n",
       "      <td>62</td>\n",
       "      <td>18.6</td>\n",
       "      <td>19.8</td>\n",
       "      <td>20.1</td>\n",
       "      <td>19.8</td>\n",
       "      <td>19.7</td>\n",
       "    </tr>\n",
       "    <tr>\n",
       "      <th>4</th>\n",
       "      <td>Arkansas</td>\n",
       "      <td>100</td>\n",
       "      <td>18.9</td>\n",
       "      <td>19.0</td>\n",
       "      <td>19.7</td>\n",
       "      <td>19.5</td>\n",
       "      <td>19.4</td>\n",
       "    </tr>\n",
       "  </tbody>\n",
       "</table>\n",
       "</div>"
      ],
      "text/plain": [
       "      State Participation  English  Math  Reading  Science Composite\n",
       "0  National            60     20.3  20.7     21.4     21.0      21.0\n",
       "1   Alabama           100     18.9  18.4     19.7     19.4      19.2\n",
       "2    Alaska            65     18.7  19.8     20.4     19.9      19.8\n",
       "3   Arizona            62     18.6  19.8     20.1     19.8      19.7\n",
       "4  Arkansas           100     18.9  19.0     19.7     19.5      19.4"
      ]
     },
     "execution_count": 15,
     "metadata": {},
     "output_type": "execute_result"
    }
   ],
   "source": [
    "# check the work\n",
    "act2017.head()"
   ]
  },
  {
   "cell_type": "code",
   "execution_count": 16,
   "metadata": {},
   "outputs": [],
   "source": [
    "# The `.rstrip()` only works on strings, but now that the percentage symbol is removed we may convert it to an int.\n",
    "act2017['Participation'] = act2017['Participation'].map(lambda p_cell: int(p_cell)) "
   ]
  },
  {
   "cell_type": "code",
   "execution_count": 17,
   "metadata": {},
   "outputs": [
    {
     "data": {
      "text/plain": [
       "State             object\n",
       "Participation      int64\n",
       "English          float64\n",
       "Math             float64\n",
       "Reading          float64\n",
       "Science          float64\n",
       "Composite         object\n",
       "dtype: object"
      ]
     },
     "execution_count": 17,
     "metadata": {},
     "output_type": "execute_result"
    }
   ],
   "source": [
    "# Check the work\n",
    "act2017.dtypes"
   ]
  },
  {
   "cell_type": "code",
   "execution_count": 18,
   "metadata": {},
   "outputs": [],
   "source": [
    "# convert particiaption to a decimal\n",
    "act2017['Participation'] = act2017['Participation'].map(lambda p_cell: (p_cell * .01)) "
   ]
  },
  {
   "cell_type": "code",
   "execution_count": 19,
   "metadata": {},
   "outputs": [
    {
     "data": {
      "text/html": [
       "<div>\n",
       "<style scoped>\n",
       "    .dataframe tbody tr th:only-of-type {\n",
       "        vertical-align: middle;\n",
       "    }\n",
       "\n",
       "    .dataframe tbody tr th {\n",
       "        vertical-align: top;\n",
       "    }\n",
       "\n",
       "    .dataframe thead th {\n",
       "        text-align: right;\n",
       "    }\n",
       "</style>\n",
       "<table border=\"1\" class=\"dataframe\">\n",
       "  <thead>\n",
       "    <tr style=\"text-align: right;\">\n",
       "      <th></th>\n",
       "      <th>State</th>\n",
       "      <th>Participation</th>\n",
       "      <th>English</th>\n",
       "      <th>Math</th>\n",
       "      <th>Reading</th>\n",
       "      <th>Science</th>\n",
       "      <th>Composite</th>\n",
       "    </tr>\n",
       "  </thead>\n",
       "  <tbody>\n",
       "    <tr>\n",
       "      <th>0</th>\n",
       "      <td>National</td>\n",
       "      <td>0.60</td>\n",
       "      <td>20.3</td>\n",
       "      <td>20.7</td>\n",
       "      <td>21.4</td>\n",
       "      <td>21.0</td>\n",
       "      <td>21.0</td>\n",
       "    </tr>\n",
       "    <tr>\n",
       "      <th>1</th>\n",
       "      <td>Alabama</td>\n",
       "      <td>1.00</td>\n",
       "      <td>18.9</td>\n",
       "      <td>18.4</td>\n",
       "      <td>19.7</td>\n",
       "      <td>19.4</td>\n",
       "      <td>19.2</td>\n",
       "    </tr>\n",
       "    <tr>\n",
       "      <th>2</th>\n",
       "      <td>Alaska</td>\n",
       "      <td>0.65</td>\n",
       "      <td>18.7</td>\n",
       "      <td>19.8</td>\n",
       "      <td>20.4</td>\n",
       "      <td>19.9</td>\n",
       "      <td>19.8</td>\n",
       "    </tr>\n",
       "    <tr>\n",
       "      <th>3</th>\n",
       "      <td>Arizona</td>\n",
       "      <td>0.62</td>\n",
       "      <td>18.6</td>\n",
       "      <td>19.8</td>\n",
       "      <td>20.1</td>\n",
       "      <td>19.8</td>\n",
       "      <td>19.7</td>\n",
       "    </tr>\n",
       "    <tr>\n",
       "      <th>4</th>\n",
       "      <td>Arkansas</td>\n",
       "      <td>1.00</td>\n",
       "      <td>18.9</td>\n",
       "      <td>19.0</td>\n",
       "      <td>19.7</td>\n",
       "      <td>19.5</td>\n",
       "      <td>19.4</td>\n",
       "    </tr>\n",
       "  </tbody>\n",
       "</table>\n",
       "</div>"
      ],
      "text/plain": [
       "      State  Participation  English  Math  Reading  Science Composite\n",
       "0  National           0.60     20.3  20.7     21.4     21.0      21.0\n",
       "1   Alabama           1.00     18.9  18.4     19.7     19.4      19.2\n",
       "2    Alaska           0.65     18.7  19.8     20.4     19.9      19.8\n",
       "3   Arizona           0.62     18.6  19.8     20.1     19.8      19.7\n",
       "4  Arkansas           1.00     18.9  19.0     19.7     19.5      19.4"
      ]
     },
     "execution_count": 19,
     "metadata": {},
     "output_type": "execute_result"
    }
   ],
   "source": [
    "# check the work\n",
    "act2017.head()"
   ]
  },
  {
   "cell_type": "code",
   "execution_count": 20,
   "metadata": {},
   "outputs": [
    {
     "data": {
      "text/html": [
       "<div>\n",
       "<style scoped>\n",
       "    .dataframe tbody tr th:only-of-type {\n",
       "        vertical-align: middle;\n",
       "    }\n",
       "\n",
       "    .dataframe tbody tr th {\n",
       "        vertical-align: top;\n",
       "    }\n",
       "\n",
       "    .dataframe thead th {\n",
       "        text-align: right;\n",
       "    }\n",
       "</style>\n",
       "<table border=\"1\" class=\"dataframe\">\n",
       "  <thead>\n",
       "    <tr style=\"text-align: right;\">\n",
       "      <th></th>\n",
       "      <th>State</th>\n",
       "      <th>Participation</th>\n",
       "      <th>Evidence-Based Reading and Writing</th>\n",
       "      <th>Math</th>\n",
       "      <th>Total</th>\n",
       "    </tr>\n",
       "  </thead>\n",
       "  <tbody>\n",
       "    <tr>\n",
       "      <th>0</th>\n",
       "      <td>Alabama</td>\n",
       "      <td>5</td>\n",
       "      <td>593</td>\n",
       "      <td>572</td>\n",
       "      <td>1165</td>\n",
       "    </tr>\n",
       "    <tr>\n",
       "      <th>1</th>\n",
       "      <td>Alaska</td>\n",
       "      <td>38</td>\n",
       "      <td>547</td>\n",
       "      <td>533</td>\n",
       "      <td>1080</td>\n",
       "    </tr>\n",
       "    <tr>\n",
       "      <th>2</th>\n",
       "      <td>Arizona</td>\n",
       "      <td>30</td>\n",
       "      <td>563</td>\n",
       "      <td>553</td>\n",
       "      <td>1116</td>\n",
       "    </tr>\n",
       "    <tr>\n",
       "      <th>3</th>\n",
       "      <td>Arkansas</td>\n",
       "      <td>3</td>\n",
       "      <td>614</td>\n",
       "      <td>594</td>\n",
       "      <td>1208</td>\n",
       "    </tr>\n",
       "    <tr>\n",
       "      <th>4</th>\n",
       "      <td>California</td>\n",
       "      <td>53</td>\n",
       "      <td>531</td>\n",
       "      <td>524</td>\n",
       "      <td>1055</td>\n",
       "    </tr>\n",
       "  </tbody>\n",
       "</table>\n",
       "</div>"
      ],
      "text/plain": [
       "        State Participation  Evidence-Based Reading and Writing  Math  Total\n",
       "0     Alabama             5                                 593   572   1165\n",
       "1      Alaska            38                                 547   533   1080\n",
       "2     Arizona            30                                 563   553   1116\n",
       "3    Arkansas             3                                 614   594   1208\n",
       "4  California            53                                 531   524   1055"
      ]
     },
     "execution_count": 20,
     "metadata": {},
     "output_type": "execute_result"
    }
   ],
   "source": [
    "sat2017['Participation'] = sat2017['Participation'].map(lambda p_cell: p_cell.rstrip('%'))\n",
    "sat2017.head()"
   ]
  },
  {
   "cell_type": "code",
   "execution_count": 21,
   "metadata": {},
   "outputs": [],
   "source": [
    "sat2017['Participation'] = sat2017['Participation'].map(lambda p_cell: int(p_cell)) "
   ]
  },
  {
   "cell_type": "code",
   "execution_count": 22,
   "metadata": {},
   "outputs": [],
   "source": [
    "sat2017['Participation'] = sat2017['Participation'].map(lambda p_cell: (p_cell * .01)) "
   ]
  },
  {
   "cell_type": "markdown",
   "metadata": {},
   "source": [
    "- Fix any individual values preventing other columns from being the appropriate type."
   ]
  },
  {
   "cell_type": "code",
   "execution_count": 23,
   "metadata": {},
   "outputs": [],
   "source": [
    "act2017['Composite'] = act2017['Composite'].map(lambda c_cell: c_cell.rstrip('x'))"
   ]
  },
  {
   "cell_type": "code",
   "execution_count": 24,
   "metadata": {},
   "outputs": [
    {
     "data": {
      "text/html": [
       "<div>\n",
       "<style scoped>\n",
       "    .dataframe tbody tr th:only-of-type {\n",
       "        vertical-align: middle;\n",
       "    }\n",
       "\n",
       "    .dataframe tbody tr th {\n",
       "        vertical-align: top;\n",
       "    }\n",
       "\n",
       "    .dataframe thead th {\n",
       "        text-align: right;\n",
       "    }\n",
       "</style>\n",
       "<table border=\"1\" class=\"dataframe\">\n",
       "  <thead>\n",
       "    <tr style=\"text-align: right;\">\n",
       "      <th></th>\n",
       "      <th>State</th>\n",
       "      <th>Participation</th>\n",
       "      <th>English</th>\n",
       "      <th>Math</th>\n",
       "      <th>Reading</th>\n",
       "      <th>Science</th>\n",
       "      <th>Composite</th>\n",
       "    </tr>\n",
       "  </thead>\n",
       "  <tbody>\n",
       "    <tr>\n",
       "      <th>47</th>\n",
       "      <td>Virginia</td>\n",
       "      <td>0.29</td>\n",
       "      <td>23.5</td>\n",
       "      <td>23.3</td>\n",
       "      <td>24.6</td>\n",
       "      <td>23.5</td>\n",
       "      <td>23.8</td>\n",
       "    </tr>\n",
       "    <tr>\n",
       "      <th>48</th>\n",
       "      <td>Washington</td>\n",
       "      <td>0.29</td>\n",
       "      <td>20.9</td>\n",
       "      <td>21.9</td>\n",
       "      <td>22.1</td>\n",
       "      <td>22.0</td>\n",
       "      <td>21.9</td>\n",
       "    </tr>\n",
       "    <tr>\n",
       "      <th>49</th>\n",
       "      <td>West Virginia</td>\n",
       "      <td>0.69</td>\n",
       "      <td>20.0</td>\n",
       "      <td>19.4</td>\n",
       "      <td>21.2</td>\n",
       "      <td>20.5</td>\n",
       "      <td>20.4</td>\n",
       "    </tr>\n",
       "    <tr>\n",
       "      <th>50</th>\n",
       "      <td>Wisconsin</td>\n",
       "      <td>1.00</td>\n",
       "      <td>19.7</td>\n",
       "      <td>20.4</td>\n",
       "      <td>20.6</td>\n",
       "      <td>20.9</td>\n",
       "      <td>20.5</td>\n",
       "    </tr>\n",
       "    <tr>\n",
       "      <th>51</th>\n",
       "      <td>Wyoming</td>\n",
       "      <td>1.00</td>\n",
       "      <td>19.4</td>\n",
       "      <td>19.8</td>\n",
       "      <td>20.8</td>\n",
       "      <td>20.6</td>\n",
       "      <td>20.2</td>\n",
       "    </tr>\n",
       "  </tbody>\n",
       "</table>\n",
       "</div>"
      ],
      "text/plain": [
       "            State  Participation  English  Math  Reading  Science Composite\n",
       "47       Virginia           0.29     23.5  23.3     24.6     23.5      23.8\n",
       "48     Washington           0.29     20.9  21.9     22.1     22.0      21.9\n",
       "49  West Virginia           0.69     20.0  19.4     21.2     20.5      20.4\n",
       "50      Wisconsin           1.00     19.7  20.4     20.6     20.9      20.5\n",
       "51        Wyoming           1.00     19.4  19.8     20.8     20.6      20.2"
      ]
     },
     "execution_count": 24,
     "metadata": {},
     "output_type": "execute_result"
    }
   ],
   "source": [
    "act2017.tail()"
   ]
  },
  {
   "cell_type": "code",
   "execution_count": 25,
   "metadata": {},
   "outputs": [],
   "source": [
    "act2017['Composite'] = act2017['Composite'].map(lambda c_cell: float(c_cell)) "
   ]
  },
  {
   "cell_type": "code",
   "execution_count": 26,
   "metadata": {},
   "outputs": [
    {
     "data": {
      "text/plain": [
       "State             object\n",
       "Participation    float64\n",
       "English          float64\n",
       "Math             float64\n",
       "Reading          float64\n",
       "Science          float64\n",
       "Composite        float64\n",
       "dtype: object"
      ]
     },
     "execution_count": 26,
     "metadata": {},
     "output_type": "execute_result"
    }
   ],
   "source": [
    "act2017.dtypes"
   ]
  },
  {
   "cell_type": "markdown",
   "metadata": {},
   "source": [
    "- Finish your data modifications by making sure the columns are now typed appropriately."
   ]
  },
  {
   "cell_type": "code",
   "execution_count": 27,
   "metadata": {},
   "outputs": [
    {
     "name": "stderr",
     "output_type": "stream",
     "text": [
      "/Users/andrewartz/anaconda3/lib/python3.6/site-packages/ipykernel_launcher.py:1: SettingWithCopyWarning: \n",
      "A value is trying to be set on a copy of a slice from a DataFrame.\n",
      "Try using .loc[row_indexer,col_indexer] = value instead\n",
      "\n",
      "See the caveats in the documentation: http://pandas.pydata.org/pandas-docs/stable/indexing.html#indexing-view-versus-copy\n",
      "  \"\"\"Entry point for launching an IPython kernel.\n"
     ]
    }
   ],
   "source": [
    "act2017.loc[act2017[\"State\"] == \"Maryland\"][\"Science\"] = 23.8"
   ]
  },
  {
   "cell_type": "code",
   "execution_count": 28,
   "metadata": {},
   "outputs": [],
   "source": [
    "act2017.iloc[21:22,5:6] = 23.8"
   ]
  },
  {
   "cell_type": "code",
   "execution_count": 29,
   "metadata": {},
   "outputs": [
    {
     "data": {
      "text/html": [
       "<div>\n",
       "<style scoped>\n",
       "    .dataframe tbody tr th:only-of-type {\n",
       "        vertical-align: middle;\n",
       "    }\n",
       "\n",
       "    .dataframe tbody tr th {\n",
       "        vertical-align: top;\n",
       "    }\n",
       "\n",
       "    .dataframe thead th {\n",
       "        text-align: right;\n",
       "    }\n",
       "</style>\n",
       "<table border=\"1\" class=\"dataframe\">\n",
       "  <thead>\n",
       "    <tr style=\"text-align: right;\">\n",
       "      <th></th>\n",
       "      <th>Science</th>\n",
       "    </tr>\n",
       "  </thead>\n",
       "  <tbody>\n",
       "    <tr>\n",
       "      <th>21</th>\n",
       "      <td>23.8</td>\n",
       "    </tr>\n",
       "  </tbody>\n",
       "</table>\n",
       "</div>"
      ],
      "text/plain": [
       "    Science\n",
       "21     23.8"
      ]
     },
     "execution_count": 29,
     "metadata": {},
     "output_type": "execute_result"
    }
   ],
   "source": [
    "act2017.iloc[21:22,5:6] "
   ]
  },
  {
   "cell_type": "markdown",
   "metadata": {},
   "source": [
    "##### SAT 2017:"
   ]
  },
  {
   "cell_type": "code",
   "execution_count": 30,
   "metadata": {},
   "outputs": [
    {
     "data": {
      "text/html": [
       "<div>\n",
       "<style scoped>\n",
       "    .dataframe tbody tr th:only-of-type {\n",
       "        vertical-align: middle;\n",
       "    }\n",
       "\n",
       "    .dataframe tbody tr th {\n",
       "        vertical-align: top;\n",
       "    }\n",
       "\n",
       "    .dataframe thead th {\n",
       "        text-align: right;\n",
       "    }\n",
       "</style>\n",
       "<table border=\"1\" class=\"dataframe\">\n",
       "  <thead>\n",
       "    <tr style=\"text-align: right;\">\n",
       "      <th></th>\n",
       "      <th>Math</th>\n",
       "    </tr>\n",
       "  </thead>\n",
       "  <tbody>\n",
       "    <tr>\n",
       "      <th>20</th>\n",
       "      <td>52</td>\n",
       "    </tr>\n",
       "  </tbody>\n",
       "</table>\n",
       "</div>"
      ],
      "text/plain": [
       "    Math\n",
       "20    52"
      ]
     },
     "execution_count": 30,
     "metadata": {},
     "output_type": "execute_result"
    }
   ],
   "source": [
    "sat2017.iloc[20:21,3:4]"
   ]
  },
  {
   "cell_type": "code",
   "execution_count": 31,
   "metadata": {},
   "outputs": [],
   "source": [
    "sat2017.iloc[20:21,3:4] = 524"
   ]
  },
  {
   "cell_type": "code",
   "execution_count": 32,
   "metadata": {
    "scrolled": true
   },
   "outputs": [
    {
     "data": {
      "text/html": [
       "<div>\n",
       "<style scoped>\n",
       "    .dataframe tbody tr th:only-of-type {\n",
       "        vertical-align: middle;\n",
       "    }\n",
       "\n",
       "    .dataframe tbody tr th {\n",
       "        vertical-align: top;\n",
       "    }\n",
       "\n",
       "    .dataframe thead th {\n",
       "        text-align: right;\n",
       "    }\n",
       "</style>\n",
       "<table border=\"1\" class=\"dataframe\">\n",
       "  <thead>\n",
       "    <tr style=\"text-align: right;\">\n",
       "      <th></th>\n",
       "      <th>Math</th>\n",
       "    </tr>\n",
       "  </thead>\n",
       "  <tbody>\n",
       "    <tr>\n",
       "      <th>20</th>\n",
       "      <td>524</td>\n",
       "    </tr>\n",
       "  </tbody>\n",
       "</table>\n",
       "</div>"
      ],
      "text/plain": [
       "    Math\n",
       "20   524"
      ]
     },
     "execution_count": 32,
     "metadata": {},
     "output_type": "execute_result"
    }
   ],
   "source": [
    "sat2017.iloc[20:21,3:4]"
   ]
  },
  {
   "cell_type": "markdown",
   "metadata": {},
   "source": [
    "- Display the data types again to confirm they are correct."
   ]
  },
  {
   "cell_type": "code",
   "execution_count": 33,
   "metadata": {},
   "outputs": [
    {
     "data": {
      "text/plain": [
       "State             object\n",
       "Participation    float64\n",
       "English          float64\n",
       "Math             float64\n",
       "Reading          float64\n",
       "Science          float64\n",
       "Composite        float64\n",
       "dtype: object"
      ]
     },
     "execution_count": 33,
     "metadata": {},
     "output_type": "execute_result"
    }
   ],
   "source": [
    "act2017.dtypes"
   ]
  },
  {
   "cell_type": "code",
   "execution_count": 34,
   "metadata": {},
   "outputs": [
    {
     "data": {
      "text/plain": [
       "State                                  object\n",
       "Participation                         float64\n",
       "Evidence-Based Reading and Writing      int64\n",
       "Math                                    int64\n",
       "Total                                   int64\n",
       "dtype: object"
      ]
     },
     "execution_count": 34,
     "metadata": {},
     "output_type": "execute_result"
    }
   ],
   "source": [
    "sat2017.dtypes"
   ]
  },
  {
   "cell_type": "code",
   "execution_count": 35,
   "metadata": {
    "scrolled": true
   },
   "outputs": [
    {
     "data": {
      "text/html": [
       "<div>\n",
       "<style scoped>\n",
       "    .dataframe tbody tr th:only-of-type {\n",
       "        vertical-align: middle;\n",
       "    }\n",
       "\n",
       "    .dataframe tbody tr th {\n",
       "        vertical-align: top;\n",
       "    }\n",
       "\n",
       "    .dataframe thead th {\n",
       "        text-align: right;\n",
       "    }\n",
       "</style>\n",
       "<table border=\"1\" class=\"dataframe\">\n",
       "  <thead>\n",
       "    <tr style=\"text-align: right;\">\n",
       "      <th></th>\n",
       "      <th>State</th>\n",
       "      <th>Participation</th>\n",
       "      <th>English</th>\n",
       "      <th>Math</th>\n",
       "      <th>Reading</th>\n",
       "      <th>Science</th>\n",
       "      <th>Composite</th>\n",
       "    </tr>\n",
       "  </thead>\n",
       "  <tbody>\n",
       "    <tr>\n",
       "      <th>0</th>\n",
       "      <td>National</td>\n",
       "      <td>0.60</td>\n",
       "      <td>20.3</td>\n",
       "      <td>20.7</td>\n",
       "      <td>21.4</td>\n",
       "      <td>21.0</td>\n",
       "      <td>21.0</td>\n",
       "    </tr>\n",
       "    <tr>\n",
       "      <th>1</th>\n",
       "      <td>Alabama</td>\n",
       "      <td>1.00</td>\n",
       "      <td>18.9</td>\n",
       "      <td>18.4</td>\n",
       "      <td>19.7</td>\n",
       "      <td>19.4</td>\n",
       "      <td>19.2</td>\n",
       "    </tr>\n",
       "    <tr>\n",
       "      <th>2</th>\n",
       "      <td>Alaska</td>\n",
       "      <td>0.65</td>\n",
       "      <td>18.7</td>\n",
       "      <td>19.8</td>\n",
       "      <td>20.4</td>\n",
       "      <td>19.9</td>\n",
       "      <td>19.8</td>\n",
       "    </tr>\n",
       "    <tr>\n",
       "      <th>3</th>\n",
       "      <td>Arizona</td>\n",
       "      <td>0.62</td>\n",
       "      <td>18.6</td>\n",
       "      <td>19.8</td>\n",
       "      <td>20.1</td>\n",
       "      <td>19.8</td>\n",
       "      <td>19.7</td>\n",
       "    </tr>\n",
       "    <tr>\n",
       "      <th>4</th>\n",
       "      <td>Arkansas</td>\n",
       "      <td>1.00</td>\n",
       "      <td>18.9</td>\n",
       "      <td>19.0</td>\n",
       "      <td>19.7</td>\n",
       "      <td>19.5</td>\n",
       "      <td>19.4</td>\n",
       "    </tr>\n",
       "  </tbody>\n",
       "</table>\n",
       "</div>"
      ],
      "text/plain": [
       "      State  Participation  English  Math  Reading  Science  Composite\n",
       "0  National           0.60     20.3  20.7     21.4     21.0       21.0\n",
       "1   Alabama           1.00     18.9  18.4     19.7     19.4       19.2\n",
       "2    Alaska           0.65     18.7  19.8     20.4     19.9       19.8\n",
       "3   Arizona           0.62     18.6  19.8     20.1     19.8       19.7\n",
       "4  Arkansas           1.00     18.9  19.0     19.7     19.5       19.4"
      ]
     },
     "execution_count": 35,
     "metadata": {},
     "output_type": "execute_result"
    }
   ],
   "source": [
    "act2017.head()"
   ]
  },
  {
   "cell_type": "code",
   "execution_count": 36,
   "metadata": {
    "scrolled": true
   },
   "outputs": [
    {
     "data": {
      "text/html": [
       "<div>\n",
       "<style scoped>\n",
       "    .dataframe tbody tr th:only-of-type {\n",
       "        vertical-align: middle;\n",
       "    }\n",
       "\n",
       "    .dataframe tbody tr th {\n",
       "        vertical-align: top;\n",
       "    }\n",
       "\n",
       "    .dataframe thead th {\n",
       "        text-align: right;\n",
       "    }\n",
       "</style>\n",
       "<table border=\"1\" class=\"dataframe\">\n",
       "  <thead>\n",
       "    <tr style=\"text-align: right;\">\n",
       "      <th></th>\n",
       "      <th>State</th>\n",
       "      <th>Participation</th>\n",
       "      <th>Evidence-Based Reading and Writing</th>\n",
       "      <th>Math</th>\n",
       "      <th>Total</th>\n",
       "    </tr>\n",
       "  </thead>\n",
       "  <tbody>\n",
       "    <tr>\n",
       "      <th>0</th>\n",
       "      <td>Alabama</td>\n",
       "      <td>0.05</td>\n",
       "      <td>593</td>\n",
       "      <td>572</td>\n",
       "      <td>1165</td>\n",
       "    </tr>\n",
       "    <tr>\n",
       "      <th>1</th>\n",
       "      <td>Alaska</td>\n",
       "      <td>0.38</td>\n",
       "      <td>547</td>\n",
       "      <td>533</td>\n",
       "      <td>1080</td>\n",
       "    </tr>\n",
       "    <tr>\n",
       "      <th>2</th>\n",
       "      <td>Arizona</td>\n",
       "      <td>0.30</td>\n",
       "      <td>563</td>\n",
       "      <td>553</td>\n",
       "      <td>1116</td>\n",
       "    </tr>\n",
       "    <tr>\n",
       "      <th>3</th>\n",
       "      <td>Arkansas</td>\n",
       "      <td>0.03</td>\n",
       "      <td>614</td>\n",
       "      <td>594</td>\n",
       "      <td>1208</td>\n",
       "    </tr>\n",
       "    <tr>\n",
       "      <th>4</th>\n",
       "      <td>California</td>\n",
       "      <td>0.53</td>\n",
       "      <td>531</td>\n",
       "      <td>524</td>\n",
       "      <td>1055</td>\n",
       "    </tr>\n",
       "  </tbody>\n",
       "</table>\n",
       "</div>"
      ],
      "text/plain": [
       "        State  Participation  Evidence-Based Reading and Writing  Math  Total\n",
       "0     Alabama           0.05                                 593   572   1165\n",
       "1      Alaska           0.38                                 547   533   1080\n",
       "2     Arizona           0.30                                 563   553   1116\n",
       "3    Arkansas           0.03                                 614   594   1208\n",
       "4  California           0.53                                 531   524   1055"
      ]
     },
     "execution_count": 36,
     "metadata": {},
     "output_type": "execute_result"
    }
   ],
   "source": [
    "sat2017.head()"
   ]
  },
  {
   "cell_type": "markdown",
   "metadata": {},
   "source": [
    "#### 7. Rename Columns"
   ]
  },
  {
   "cell_type": "code",
   "execution_count": 37,
   "metadata": {},
   "outputs": [],
   "source": [
    "sat2017.columns = map(str.lower, sat2017.columns)"
   ]
  },
  {
   "cell_type": "code",
   "execution_count": 38,
   "metadata": {},
   "outputs": [],
   "source": [
    "act2017.columns = map(str.lower, act2017.columns)"
   ]
  },
  {
   "cell_type": "code",
   "execution_count": 39,
   "metadata": {},
   "outputs": [],
   "source": [
    "act2017.rename(columns = {'participation' : 'a17_participation', 'english':'a17_english', 'math':'a17_math' , 'reading' : 'a17_reading', 'science' : 'a17_science', 'composite' : 'a17_composite'}, inplace = True)"
   ]
  },
  {
   "cell_type": "code",
   "execution_count": 40,
   "metadata": {},
   "outputs": [],
   "source": [
    "sat2017.rename(columns = {'participation' : 's17_participation','evidence-based reading and writing' : 's17_reading_writing','math' : 's17_math', 'total': 's17_total'}, inplace = True)"
   ]
  },
  {
   "cell_type": "code",
   "execution_count": 41,
   "metadata": {},
   "outputs": [
    {
     "data": {
      "text/html": [
       "<div>\n",
       "<style scoped>\n",
       "    .dataframe tbody tr th:only-of-type {\n",
       "        vertical-align: middle;\n",
       "    }\n",
       "\n",
       "    .dataframe tbody tr th {\n",
       "        vertical-align: top;\n",
       "    }\n",
       "\n",
       "    .dataframe thead th {\n",
       "        text-align: right;\n",
       "    }\n",
       "</style>\n",
       "<table border=\"1\" class=\"dataframe\">\n",
       "  <thead>\n",
       "    <tr style=\"text-align: right;\">\n",
       "      <th></th>\n",
       "      <th>state</th>\n",
       "      <th>s17_participation</th>\n",
       "      <th>s17_reading_writing</th>\n",
       "      <th>s17_math</th>\n",
       "      <th>s17_total</th>\n",
       "    </tr>\n",
       "  </thead>\n",
       "  <tbody>\n",
       "    <tr>\n",
       "      <th>0</th>\n",
       "      <td>Alabama</td>\n",
       "      <td>0.05</td>\n",
       "      <td>593</td>\n",
       "      <td>572</td>\n",
       "      <td>1165</td>\n",
       "    </tr>\n",
       "    <tr>\n",
       "      <th>1</th>\n",
       "      <td>Alaska</td>\n",
       "      <td>0.38</td>\n",
       "      <td>547</td>\n",
       "      <td>533</td>\n",
       "      <td>1080</td>\n",
       "    </tr>\n",
       "    <tr>\n",
       "      <th>2</th>\n",
       "      <td>Arizona</td>\n",
       "      <td>0.30</td>\n",
       "      <td>563</td>\n",
       "      <td>553</td>\n",
       "      <td>1116</td>\n",
       "    </tr>\n",
       "    <tr>\n",
       "      <th>3</th>\n",
       "      <td>Arkansas</td>\n",
       "      <td>0.03</td>\n",
       "      <td>614</td>\n",
       "      <td>594</td>\n",
       "      <td>1208</td>\n",
       "    </tr>\n",
       "    <tr>\n",
       "      <th>4</th>\n",
       "      <td>California</td>\n",
       "      <td>0.53</td>\n",
       "      <td>531</td>\n",
       "      <td>524</td>\n",
       "      <td>1055</td>\n",
       "    </tr>\n",
       "  </tbody>\n",
       "</table>\n",
       "</div>"
      ],
      "text/plain": [
       "        state  s17_participation  s17_reading_writing  s17_math  s17_total\n",
       "0     Alabama               0.05                  593       572       1165\n",
       "1      Alaska               0.38                  547       533       1080\n",
       "2     Arizona               0.30                  563       553       1116\n",
       "3    Arkansas               0.03                  614       594       1208\n",
       "4  California               0.53                  531       524       1055"
      ]
     },
     "execution_count": 41,
     "metadata": {},
     "output_type": "execute_result"
    }
   ],
   "source": [
    "sat2017.head()"
   ]
  },
  {
   "cell_type": "code",
   "execution_count": 42,
   "metadata": {
    "scrolled": true
   },
   "outputs": [
    {
     "data": {
      "text/html": [
       "<div>\n",
       "<style scoped>\n",
       "    .dataframe tbody tr th:only-of-type {\n",
       "        vertical-align: middle;\n",
       "    }\n",
       "\n",
       "    .dataframe tbody tr th {\n",
       "        vertical-align: top;\n",
       "    }\n",
       "\n",
       "    .dataframe thead th {\n",
       "        text-align: right;\n",
       "    }\n",
       "</style>\n",
       "<table border=\"1\" class=\"dataframe\">\n",
       "  <thead>\n",
       "    <tr style=\"text-align: right;\">\n",
       "      <th></th>\n",
       "      <th>state</th>\n",
       "      <th>a17_participation</th>\n",
       "      <th>a17_english</th>\n",
       "      <th>a17_math</th>\n",
       "      <th>a17_reading</th>\n",
       "      <th>a17_science</th>\n",
       "      <th>a17_composite</th>\n",
       "    </tr>\n",
       "  </thead>\n",
       "  <tbody>\n",
       "    <tr>\n",
       "      <th>0</th>\n",
       "      <td>National</td>\n",
       "      <td>0.60</td>\n",
       "      <td>20.3</td>\n",
       "      <td>20.7</td>\n",
       "      <td>21.4</td>\n",
       "      <td>21.0</td>\n",
       "      <td>21.0</td>\n",
       "    </tr>\n",
       "    <tr>\n",
       "      <th>1</th>\n",
       "      <td>Alabama</td>\n",
       "      <td>1.00</td>\n",
       "      <td>18.9</td>\n",
       "      <td>18.4</td>\n",
       "      <td>19.7</td>\n",
       "      <td>19.4</td>\n",
       "      <td>19.2</td>\n",
       "    </tr>\n",
       "    <tr>\n",
       "      <th>2</th>\n",
       "      <td>Alaska</td>\n",
       "      <td>0.65</td>\n",
       "      <td>18.7</td>\n",
       "      <td>19.8</td>\n",
       "      <td>20.4</td>\n",
       "      <td>19.9</td>\n",
       "      <td>19.8</td>\n",
       "    </tr>\n",
       "    <tr>\n",
       "      <th>3</th>\n",
       "      <td>Arizona</td>\n",
       "      <td>0.62</td>\n",
       "      <td>18.6</td>\n",
       "      <td>19.8</td>\n",
       "      <td>20.1</td>\n",
       "      <td>19.8</td>\n",
       "      <td>19.7</td>\n",
       "    </tr>\n",
       "    <tr>\n",
       "      <th>4</th>\n",
       "      <td>Arkansas</td>\n",
       "      <td>1.00</td>\n",
       "      <td>18.9</td>\n",
       "      <td>19.0</td>\n",
       "      <td>19.7</td>\n",
       "      <td>19.5</td>\n",
       "      <td>19.4</td>\n",
       "    </tr>\n",
       "  </tbody>\n",
       "</table>\n",
       "</div>"
      ],
      "text/plain": [
       "      state  a17_participation  a17_english  a17_math  a17_reading  \\\n",
       "0  National               0.60         20.3      20.7         21.4   \n",
       "1   Alabama               1.00         18.9      18.4         19.7   \n",
       "2    Alaska               0.65         18.7      19.8         20.4   \n",
       "3   Arizona               0.62         18.6      19.8         20.1   \n",
       "4  Arkansas               1.00         18.9      19.0         19.7   \n",
       "\n",
       "   a17_science  a17_composite  \n",
       "0         21.0           21.0  \n",
       "1         19.4           19.2  \n",
       "2         19.9           19.8  \n",
       "3         19.8           19.7  \n",
       "4         19.5           19.4  "
      ]
     },
     "execution_count": 42,
     "metadata": {},
     "output_type": "execute_result"
    }
   ],
   "source": [
    "act2017.head()"
   ]
  },
  {
   "cell_type": "markdown",
   "metadata": {},
   "source": [
    "#### 8. Create a data dictionary"
   ]
  },
  {
   "cell_type": "markdown",
   "metadata": {},
   "source": []
  },
  {
   "cell_type": "markdown",
   "metadata": {},
   "source": [
    "\n",
    "|Feature|Type|Dataset|Description|\n",
    "|---|---|---|---|\n",
    "|**state**|*string*|All datasets|States were used as the key to merge all datasets in this project|\n",
    "|**a17_participation**|*float*|ACT 2017|Percent participation in the 2017 ACT|\n",
    "|**a17_english**|*float*|ACT 2017|Subject area scores for the 2017 ACT|\n",
    "|**a17_math**|*float*|ACT 2017|Subject area scores for the 2017 ACT|\n",
    "|**a17_reading**|*float*|ACT 2017|Subject area scores for the 2017 ACT|\n",
    "|**a17_science**|*float*|ACT 2017|Subject area scores for the 2017 ACT|\n",
    "|**a17_composite**|*float*|ACT 2017|The composite score provided as the mean of each subject area scores for the 2017 ACT|\n",
    "|**a18_participation**|*float*|ACT 2018|Percent participation in the 2018 ACT|\n",
    "|**a18_english**|*float*|ACT 2018|Subject area scores for the 2018 ACT|\n",
    "|**a18_math**|*float*|ACT 2018|Subject area scores for the 2018 ACT|\n",
    "|**a18_reading**|*float*|ACT 2018|Subject area scores for the 2018 ACT|\n",
    "|**a18_science**|*float*|ACT 2018|Subject area scores for the 2018 ACT|\n",
    "|**a18_composite**|*float*|ACT 2018|The composite score provided as the mean of each subject area scores for the 2018 ACT|\n",
    "|**s17_participation**|*float*|SAT 2017|Percent participation in the 2017 SAT|\n",
    "|**s17_reading_writing**|*integer*|SAT 2017|Subject area scores for the 2017 SAT|\n",
    "|**s17_math**|*integer*|SAT 2017|Subject area scores for the 2017 SAT|\n",
    "|**s17_total**|*integer*|SAT 2017|The sum total score of the math and evidence based reading and writing subject area scores for the 2017 SAT|\n",
    "|**s18_participation**|*float*|SAT 2018|Percent participation in the 2018 SAT|\n",
    "|**s18_reading_writing**|*integer*|SAT 2018|Subject area scores for the 2017 SAT|\n",
    "|**s18_math**|*integer*|SAT 2018|Subject area scores for the 2018 SAT|\n",
    "|**s18_total**|*integer*|SAT 2018|The sum total score of the math and evidence based reading and writing subject area scores for the 2018 SAT|\n"
   ]
  },
  {
   "cell_type": "markdown",
   "metadata": {},
   "source": [
    "|Feature|Type|Dataset|Description|\n",
    "|---|---|---|---|\n",
    "|**Region**|*string*|US Census Bureau|Major Census Regions of the United States|\n",
    "|**Division**|*string*|US Census Bureau|Subdivisions of the Major Census Regions in the United States|\n",
    "|**tot_est_pop_15_to_17**|*integer*|2017 American Community Survey, 5-Year Estimates|Total estimated population for students ages 15-17|\n",
    "|**tot_est_pop_15_to_17_enrolled_in_school**|*integer*|2017 American Community Survey, 5-Year Estimates|Estimated Total of the population ages 15-17 enrolled in school|\n",
    "|**public_school_est_pop_15_to_17_enrolled_in_school**|*integer*|2017 American Community Survey, 5-Year Estimates|Estimated Total of the population ages 15-17 enrolled in Public Schools|\n",
    "|**percent_est_pop_15_to_17_enrolled_in_school**|*float*|2017 American Community Survey, 5-Year Estimates|Estimated Percent of the population ages 15-17 enrolled in school|\n",
    "|**public_school_est_pop_15_to_17_enrolled_in_school**|*integer*|2017 American Community Survey, 5-Year Estimates|Total estimated population for students ages 15-17 enrolled in schools|\n",
    "|**private_school_est_pop_15_to_17_enrolled_in_school**|*integer*|2017 American Community Survey, 5-Year Estimates|Estimated Percent of the population ages 15-17 enrolled in Private School|"
   ]
  },
  {
   "cell_type": "markdown",
   "metadata": {},
   "source": [
    "#### 9. Drop unnecessary rows"
   ]
  },
  {
   "cell_type": "code",
   "execution_count": 43,
   "metadata": {},
   "outputs": [],
   "source": [
    "# sat2017 = sat2017.iloc[1:,]"
   ]
  },
  {
   "cell_type": "code",
   "execution_count": 44,
   "metadata": {},
   "outputs": [],
   "source": [
    "act2017 = act2017.iloc[1:,]"
   ]
  },
  {
   "cell_type": "code",
   "execution_count": 45,
   "metadata": {},
   "outputs": [
    {
     "data": {
      "text/html": [
       "<div>\n",
       "<style scoped>\n",
       "    .dataframe tbody tr th:only-of-type {\n",
       "        vertical-align: middle;\n",
       "    }\n",
       "\n",
       "    .dataframe tbody tr th {\n",
       "        vertical-align: top;\n",
       "    }\n",
       "\n",
       "    .dataframe thead th {\n",
       "        text-align: right;\n",
       "    }\n",
       "</style>\n",
       "<table border=\"1\" class=\"dataframe\">\n",
       "  <thead>\n",
       "    <tr style=\"text-align: right;\">\n",
       "      <th></th>\n",
       "      <th>state</th>\n",
       "      <th>a17_participation</th>\n",
       "      <th>a17_english</th>\n",
       "      <th>a17_math</th>\n",
       "      <th>a17_reading</th>\n",
       "      <th>a17_science</th>\n",
       "      <th>a17_composite</th>\n",
       "    </tr>\n",
       "  </thead>\n",
       "  <tbody>\n",
       "    <tr>\n",
       "      <th>1</th>\n",
       "      <td>Alabama</td>\n",
       "      <td>1.00</td>\n",
       "      <td>18.9</td>\n",
       "      <td>18.4</td>\n",
       "      <td>19.7</td>\n",
       "      <td>19.4</td>\n",
       "      <td>19.2</td>\n",
       "    </tr>\n",
       "    <tr>\n",
       "      <th>2</th>\n",
       "      <td>Alaska</td>\n",
       "      <td>0.65</td>\n",
       "      <td>18.7</td>\n",
       "      <td>19.8</td>\n",
       "      <td>20.4</td>\n",
       "      <td>19.9</td>\n",
       "      <td>19.8</td>\n",
       "    </tr>\n",
       "    <tr>\n",
       "      <th>3</th>\n",
       "      <td>Arizona</td>\n",
       "      <td>0.62</td>\n",
       "      <td>18.6</td>\n",
       "      <td>19.8</td>\n",
       "      <td>20.1</td>\n",
       "      <td>19.8</td>\n",
       "      <td>19.7</td>\n",
       "    </tr>\n",
       "    <tr>\n",
       "      <th>4</th>\n",
       "      <td>Arkansas</td>\n",
       "      <td>1.00</td>\n",
       "      <td>18.9</td>\n",
       "      <td>19.0</td>\n",
       "      <td>19.7</td>\n",
       "      <td>19.5</td>\n",
       "      <td>19.4</td>\n",
       "    </tr>\n",
       "    <tr>\n",
       "      <th>5</th>\n",
       "      <td>California</td>\n",
       "      <td>0.31</td>\n",
       "      <td>22.5</td>\n",
       "      <td>22.7</td>\n",
       "      <td>23.1</td>\n",
       "      <td>22.2</td>\n",
       "      <td>22.8</td>\n",
       "    </tr>\n",
       "  </tbody>\n",
       "</table>\n",
       "</div>"
      ],
      "text/plain": [
       "        state  a17_participation  a17_english  a17_math  a17_reading  \\\n",
       "1     Alabama               1.00         18.9      18.4         19.7   \n",
       "2      Alaska               0.65         18.7      19.8         20.4   \n",
       "3     Arizona               0.62         18.6      19.8         20.1   \n",
       "4    Arkansas               1.00         18.9      19.0         19.7   \n",
       "5  California               0.31         22.5      22.7         23.1   \n",
       "\n",
       "   a17_science  a17_composite  \n",
       "1         19.4           19.2  \n",
       "2         19.9           19.8  \n",
       "3         19.8           19.7  \n",
       "4         19.5           19.4  \n",
       "5         22.2           22.8  "
      ]
     },
     "execution_count": 45,
     "metadata": {},
     "output_type": "execute_result"
    }
   ],
   "source": [
    "act2017.head()"
   ]
  },
  {
   "cell_type": "code",
   "execution_count": 46,
   "metadata": {},
   "outputs": [
    {
     "data": {
      "text/html": [
       "<div>\n",
       "<style scoped>\n",
       "    .dataframe tbody tr th:only-of-type {\n",
       "        vertical-align: middle;\n",
       "    }\n",
       "\n",
       "    .dataframe tbody tr th {\n",
       "        vertical-align: top;\n",
       "    }\n",
       "\n",
       "    .dataframe thead th {\n",
       "        text-align: right;\n",
       "    }\n",
       "</style>\n",
       "<table border=\"1\" class=\"dataframe\">\n",
       "  <thead>\n",
       "    <tr style=\"text-align: right;\">\n",
       "      <th></th>\n",
       "      <th>state</th>\n",
       "      <th>s17_participation</th>\n",
       "      <th>s17_reading_writing</th>\n",
       "      <th>s17_math</th>\n",
       "      <th>s17_total</th>\n",
       "    </tr>\n",
       "  </thead>\n",
       "  <tbody>\n",
       "    <tr>\n",
       "      <th>0</th>\n",
       "      <td>Alabama</td>\n",
       "      <td>0.05</td>\n",
       "      <td>593</td>\n",
       "      <td>572</td>\n",
       "      <td>1165</td>\n",
       "    </tr>\n",
       "    <tr>\n",
       "      <th>1</th>\n",
       "      <td>Alaska</td>\n",
       "      <td>0.38</td>\n",
       "      <td>547</td>\n",
       "      <td>533</td>\n",
       "      <td>1080</td>\n",
       "    </tr>\n",
       "    <tr>\n",
       "      <th>2</th>\n",
       "      <td>Arizona</td>\n",
       "      <td>0.30</td>\n",
       "      <td>563</td>\n",
       "      <td>553</td>\n",
       "      <td>1116</td>\n",
       "    </tr>\n",
       "    <tr>\n",
       "      <th>3</th>\n",
       "      <td>Arkansas</td>\n",
       "      <td>0.03</td>\n",
       "      <td>614</td>\n",
       "      <td>594</td>\n",
       "      <td>1208</td>\n",
       "    </tr>\n",
       "    <tr>\n",
       "      <th>4</th>\n",
       "      <td>California</td>\n",
       "      <td>0.53</td>\n",
       "      <td>531</td>\n",
       "      <td>524</td>\n",
       "      <td>1055</td>\n",
       "    </tr>\n",
       "  </tbody>\n",
       "</table>\n",
       "</div>"
      ],
      "text/plain": [
       "        state  s17_participation  s17_reading_writing  s17_math  s17_total\n",
       "0     Alabama               0.05                  593       572       1165\n",
       "1      Alaska               0.38                  547       533       1080\n",
       "2     Arizona               0.30                  563       553       1116\n",
       "3    Arkansas               0.03                  614       594       1208\n",
       "4  California               0.53                  531       524       1055"
      ]
     },
     "execution_count": 46,
     "metadata": {},
     "output_type": "execute_result"
    }
   ],
   "source": [
    "sat2017.head()"
   ]
  },
  {
   "cell_type": "markdown",
   "metadata": {},
   "source": [
    "#### 10. Merge Dataframes"
   ]
  },
  {
   "cell_type": "code",
   "execution_count": 47,
   "metadata": {},
   "outputs": [],
   "source": [
    "tests2017 = pd.merge(act2017, sat2017, how = \"right\", on='state')"
   ]
  },
  {
   "cell_type": "markdown",
   "metadata": {},
   "source": [
    "#### 11. Save your cleaned, merged dataframe\n",
    "\n",
    "Use a relative path to save out your data as `combined_2017.csv`."
   ]
  },
  {
   "cell_type": "code",
   "execution_count": 48,
   "metadata": {},
   "outputs": [],
   "source": [
    "combined_2017 = tests2017"
   ]
  },
  {
   "cell_type": "code",
   "execution_count": 49,
   "metadata": {},
   "outputs": [],
   "source": [
    "combined_2017.to_csv('../data/combined_2017.csv')  "
   ]
  },
  {
   "cell_type": "markdown",
   "metadata": {},
   "source": [
    "## 2018 Data Import and Cleaning"
   ]
  },
  {
   "cell_type": "markdown",
   "metadata": {},
   "source": [
    "Following the examination and cleaning of the 2017 ACT and SAT datasets, the 2018 datasets were imported and reviewed in the same manner.  "
   ]
  },
  {
   "cell_type": "code",
   "execution_count": 50,
   "metadata": {},
   "outputs": [],
   "source": [
    "act2018 = pd.read_csv(\"../data/ACT2018_Testing_Data.csv\")"
   ]
  },
  {
   "cell_type": "code",
   "execution_count": 51,
   "metadata": {},
   "outputs": [],
   "source": [
    "sat2018 = pd.read_csv(\"../data/SAT2018_Testing _Data.csv\")"
   ]
  },
  {
   "cell_type": "markdown",
   "metadata": {},
   "source": [
    "##### ACT 2018:"
   ]
  },
  {
   "cell_type": "code",
   "execution_count": 52,
   "metadata": {},
   "outputs": [
    {
     "data": {
      "text/plain": [
       "(54, 3)"
      ]
     },
     "execution_count": 52,
     "metadata": {},
     "output_type": "execute_result"
    }
   ],
   "source": [
    "act2018.shape"
   ]
  },
  {
   "cell_type": "code",
   "execution_count": 53,
   "metadata": {},
   "outputs": [
    {
     "data": {
      "text/plain": [
       "State             object\n",
       "Participation     object\n",
       "Composite        float64\n",
       "dtype: object"
      ]
     },
     "execution_count": 53,
     "metadata": {},
     "output_type": "execute_result"
    }
   ],
   "source": [
    "act2018.dtypes"
   ]
  },
  {
   "cell_type": "code",
   "execution_count": 54,
   "metadata": {},
   "outputs": [
    {
     "data": {
      "text/plain": [
       "State            2\n",
       "Participation    2\n",
       "Composite        2\n",
       "dtype: int64"
      ]
     },
     "execution_count": 54,
     "metadata": {},
     "output_type": "execute_result"
    }
   ],
   "source": [
    "act2018.isnull().sum()"
   ]
  },
  {
   "cell_type": "code",
   "execution_count": 55,
   "metadata": {},
   "outputs": [
    {
     "data": {
      "text/html": [
       "<div>\n",
       "<style scoped>\n",
       "    .dataframe tbody tr th:only-of-type {\n",
       "        vertical-align: middle;\n",
       "    }\n",
       "\n",
       "    .dataframe tbody tr th {\n",
       "        vertical-align: top;\n",
       "    }\n",
       "\n",
       "    .dataframe thead th {\n",
       "        text-align: right;\n",
       "    }\n",
       "</style>\n",
       "<table border=\"1\" class=\"dataframe\">\n",
       "  <thead>\n",
       "    <tr style=\"text-align: right;\">\n",
       "      <th></th>\n",
       "      <th>Composite</th>\n",
       "    </tr>\n",
       "  </thead>\n",
       "  <tbody>\n",
       "    <tr>\n",
       "      <th>count</th>\n",
       "      <td>52.000000</td>\n",
       "    </tr>\n",
       "    <tr>\n",
       "      <th>mean</th>\n",
       "      <td>21.544231</td>\n",
       "    </tr>\n",
       "    <tr>\n",
       "      <th>std</th>\n",
       "      <td>2.119417</td>\n",
       "    </tr>\n",
       "    <tr>\n",
       "      <th>min</th>\n",
       "      <td>17.700000</td>\n",
       "    </tr>\n",
       "    <tr>\n",
       "      <th>25%</th>\n",
       "      <td>19.975000</td>\n",
       "    </tr>\n",
       "    <tr>\n",
       "      <th>50%</th>\n",
       "      <td>21.300000</td>\n",
       "    </tr>\n",
       "    <tr>\n",
       "      <th>75%</th>\n",
       "      <td>23.725000</td>\n",
       "    </tr>\n",
       "    <tr>\n",
       "      <th>max</th>\n",
       "      <td>25.600000</td>\n",
       "    </tr>\n",
       "  </tbody>\n",
       "</table>\n",
       "</div>"
      ],
      "text/plain": [
       "       Composite\n",
       "count  52.000000\n",
       "mean   21.544231\n",
       "std     2.119417\n",
       "min    17.700000\n",
       "25%    19.975000\n",
       "50%    21.300000\n",
       "75%    23.725000\n",
       "max    25.600000"
      ]
     },
     "execution_count": 55,
     "metadata": {},
     "output_type": "execute_result"
    }
   ],
   "source": [
    "act2018.describe()"
   ]
  },
  {
   "cell_type": "code",
   "execution_count": 56,
   "metadata": {},
   "outputs": [
    {
     "data": {
      "text/html": [
       "<div>\n",
       "<style scoped>\n",
       "    .dataframe tbody tr th:only-of-type {\n",
       "        vertical-align: middle;\n",
       "    }\n",
       "\n",
       "    .dataframe tbody tr th {\n",
       "        vertical-align: top;\n",
       "    }\n",
       "\n",
       "    .dataframe thead th {\n",
       "        text-align: right;\n",
       "    }\n",
       "</style>\n",
       "<table border=\"1\" class=\"dataframe\">\n",
       "  <thead>\n",
       "    <tr style=\"text-align: right;\">\n",
       "      <th></th>\n",
       "      <th>State</th>\n",
       "      <th>Participation</th>\n",
       "      <th>Composite</th>\n",
       "    </tr>\n",
       "  </thead>\n",
       "  <tbody>\n",
       "    <tr>\n",
       "      <th>0</th>\n",
       "      <td>Alabama</td>\n",
       "      <td>100%</td>\n",
       "      <td>19.1</td>\n",
       "    </tr>\n",
       "    <tr>\n",
       "      <th>1</th>\n",
       "      <td>Alaska</td>\n",
       "      <td>33%</td>\n",
       "      <td>20.8</td>\n",
       "    </tr>\n",
       "    <tr>\n",
       "      <th>2</th>\n",
       "      <td>Arizona</td>\n",
       "      <td>66%</td>\n",
       "      <td>19.2</td>\n",
       "    </tr>\n",
       "    <tr>\n",
       "      <th>3</th>\n",
       "      <td>Arkansas</td>\n",
       "      <td>100%</td>\n",
       "      <td>19.4</td>\n",
       "    </tr>\n",
       "    <tr>\n",
       "      <th>4</th>\n",
       "      <td>California</td>\n",
       "      <td>27%</td>\n",
       "      <td>22.7</td>\n",
       "    </tr>\n",
       "  </tbody>\n",
       "</table>\n",
       "</div>"
      ],
      "text/plain": [
       "        State Participation  Composite\n",
       "0     Alabama          100%       19.1\n",
       "1      Alaska           33%       20.8\n",
       "2     Arizona           66%       19.2\n",
       "3    Arkansas          100%       19.4\n",
       "4  California           27%       22.7"
      ]
     },
     "execution_count": 56,
     "metadata": {},
     "output_type": "execute_result"
    }
   ],
   "source": [
    "act2018.head()"
   ]
  },
  {
   "cell_type": "markdown",
   "metadata": {},
   "source": [
    ">\n",
    "> Remove two empty, extra rows at the end of the data frame\n",
    ">\n",
    "> Maine is duplicated\n",
    ">\n",
    "> Participation percentage\n",
    ">"
   ]
  },
  {
   "cell_type": "code",
   "execution_count": 57,
   "metadata": {},
   "outputs": [],
   "source": [
    "act2018.drop_duplicates(inplace=True)\n",
    "\n",
    "# http://pandas.pydata.org/pandas-docs/version/0.17/generated/pandas.DataFrame.drop_duplicates.html"
   ]
  },
  {
   "cell_type": "code",
   "execution_count": 58,
   "metadata": {},
   "outputs": [],
   "source": [
    "act2018 = act2018.iloc[:51,]"
   ]
  },
  {
   "cell_type": "code",
   "execution_count": 59,
   "metadata": {},
   "outputs": [
    {
     "data": {
      "text/html": [
       "<div>\n",
       "<style scoped>\n",
       "    .dataframe tbody tr th:only-of-type {\n",
       "        vertical-align: middle;\n",
       "    }\n",
       "\n",
       "    .dataframe tbody tr th {\n",
       "        vertical-align: top;\n",
       "    }\n",
       "\n",
       "    .dataframe thead th {\n",
       "        text-align: right;\n",
       "    }\n",
       "</style>\n",
       "<table border=\"1\" class=\"dataframe\">\n",
       "  <thead>\n",
       "    <tr style=\"text-align: right;\">\n",
       "      <th></th>\n",
       "      <th>State</th>\n",
       "      <th>Participation</th>\n",
       "      <th>Composite</th>\n",
       "    </tr>\n",
       "  </thead>\n",
       "  <tbody>\n",
       "    <tr>\n",
       "      <th>0</th>\n",
       "      <td>Alabama</td>\n",
       "      <td>100%</td>\n",
       "      <td>19.1</td>\n",
       "    </tr>\n",
       "    <tr>\n",
       "      <th>1</th>\n",
       "      <td>Alaska</td>\n",
       "      <td>33%</td>\n",
       "      <td>20.8</td>\n",
       "    </tr>\n",
       "    <tr>\n",
       "      <th>2</th>\n",
       "      <td>Arizona</td>\n",
       "      <td>66%</td>\n",
       "      <td>19.2</td>\n",
       "    </tr>\n",
       "    <tr>\n",
       "      <th>3</th>\n",
       "      <td>Arkansas</td>\n",
       "      <td>100%</td>\n",
       "      <td>19.4</td>\n",
       "    </tr>\n",
       "    <tr>\n",
       "      <th>4</th>\n",
       "      <td>California</td>\n",
       "      <td>27%</td>\n",
       "      <td>22.7</td>\n",
       "    </tr>\n",
       "  </tbody>\n",
       "</table>\n",
       "</div>"
      ],
      "text/plain": [
       "        State Participation  Composite\n",
       "0     Alabama          100%       19.1\n",
       "1      Alaska           33%       20.8\n",
       "2     Arizona           66%       19.2\n",
       "3    Arkansas          100%       19.4\n",
       "4  California           27%       22.7"
      ]
     },
     "execution_count": 59,
     "metadata": {},
     "output_type": "execute_result"
    }
   ],
   "source": [
    "act2018.head()"
   ]
  },
  {
   "cell_type": "code",
   "execution_count": 60,
   "metadata": {},
   "outputs": [],
   "source": [
    "act2018['Participation'] = act2018['Participation'].map(lambda p_cell: p_cell.rstrip('%'))"
   ]
  },
  {
   "cell_type": "code",
   "execution_count": 61,
   "metadata": {},
   "outputs": [],
   "source": [
    "act2018['Participation'] = act2018['Participation'].map(lambda p_cell: int(p_cell)) "
   ]
  },
  {
   "cell_type": "code",
   "execution_count": 62,
   "metadata": {},
   "outputs": [],
   "source": [
    "act2018['Participation'] = act2018['Participation'].map(lambda p_cell: (p_cell * .01)) "
   ]
  },
  {
   "cell_type": "code",
   "execution_count": 63,
   "metadata": {},
   "outputs": [],
   "source": [
    "act2018.rename(columns = {'State' : 'state', 'Participation':'a18_participation', 'Composite':'a18_composite'}, inplace = True)"
   ]
  },
  {
   "cell_type": "markdown",
   "metadata": {},
   "source": [
    "##### SAT 2018:"
   ]
  },
  {
   "cell_type": "code",
   "execution_count": 64,
   "metadata": {},
   "outputs": [
    {
     "data": {
      "text/plain": [
       "State                                  object\n",
       "Participation                          object\n",
       "Evidence-Based Reading and Writing    float64\n",
       "Math                                  float64\n",
       "Total                                 float64\n",
       "Unnamed: 5                            float64\n",
       "Unnamed: 6                            float64\n",
       "Unnamed: 7                            float64\n",
       "dtype: object"
      ]
     },
     "execution_count": 64,
     "metadata": {},
     "output_type": "execute_result"
    }
   ],
   "source": [
    "sat2018.dtypes"
   ]
  },
  {
   "cell_type": "code",
   "execution_count": 65,
   "metadata": {},
   "outputs": [
    {
     "data": {
      "text/plain": [
       "(52, 8)"
      ]
     },
     "execution_count": 65,
     "metadata": {},
     "output_type": "execute_result"
    }
   ],
   "source": [
    "sat2018.shape"
   ]
  },
  {
   "cell_type": "code",
   "execution_count": 66,
   "metadata": {},
   "outputs": [
    {
     "data": {
      "text/plain": [
       "State                                  object\n",
       "Participation                          object\n",
       "Evidence-Based Reading and Writing    float64\n",
       "Math                                  float64\n",
       "Total                                 float64\n",
       "Unnamed: 5                            float64\n",
       "Unnamed: 6                            float64\n",
       "Unnamed: 7                            float64\n",
       "dtype: object"
      ]
     },
     "execution_count": 66,
     "metadata": {},
     "output_type": "execute_result"
    }
   ],
   "source": [
    "sat2018.dtypes"
   ]
  },
  {
   "cell_type": "code",
   "execution_count": 67,
   "metadata": {},
   "outputs": [
    {
     "data": {
      "text/html": [
       "<div>\n",
       "<style scoped>\n",
       "    .dataframe tbody tr th:only-of-type {\n",
       "        vertical-align: middle;\n",
       "    }\n",
       "\n",
       "    .dataframe tbody tr th {\n",
       "        vertical-align: top;\n",
       "    }\n",
       "\n",
       "    .dataframe thead th {\n",
       "        text-align: right;\n",
       "    }\n",
       "</style>\n",
       "<table border=\"1\" class=\"dataframe\">\n",
       "  <thead>\n",
       "    <tr style=\"text-align: right;\">\n",
       "      <th></th>\n",
       "      <th>Evidence-Based Reading and Writing</th>\n",
       "      <th>Math</th>\n",
       "      <th>Total</th>\n",
       "      <th>Unnamed: 5</th>\n",
       "      <th>Unnamed: 6</th>\n",
       "      <th>Unnamed: 7</th>\n",
       "    </tr>\n",
       "  </thead>\n",
       "  <tbody>\n",
       "    <tr>\n",
       "      <th>count</th>\n",
       "      <td>51.000000</td>\n",
       "      <td>51.000000</td>\n",
       "      <td>51.000000</td>\n",
       "      <td>0.0</td>\n",
       "      <td>0.0</td>\n",
       "      <td>0.0</td>\n",
       "    </tr>\n",
       "    <tr>\n",
       "      <th>mean</th>\n",
       "      <td>563.686275</td>\n",
       "      <td>556.235294</td>\n",
       "      <td>1120.019608</td>\n",
       "      <td>NaN</td>\n",
       "      <td>NaN</td>\n",
       "      <td>NaN</td>\n",
       "    </tr>\n",
       "    <tr>\n",
       "      <th>std</th>\n",
       "      <td>47.502627</td>\n",
       "      <td>47.772623</td>\n",
       "      <td>94.155083</td>\n",
       "      <td>NaN</td>\n",
       "      <td>NaN</td>\n",
       "      <td>NaN</td>\n",
       "    </tr>\n",
       "    <tr>\n",
       "      <th>min</th>\n",
       "      <td>480.000000</td>\n",
       "      <td>480.000000</td>\n",
       "      <td>977.000000</td>\n",
       "      <td>NaN</td>\n",
       "      <td>NaN</td>\n",
       "      <td>NaN</td>\n",
       "    </tr>\n",
       "    <tr>\n",
       "      <th>25%</th>\n",
       "      <td>534.500000</td>\n",
       "      <td>522.500000</td>\n",
       "      <td>1057.500000</td>\n",
       "      <td>NaN</td>\n",
       "      <td>NaN</td>\n",
       "      <td>NaN</td>\n",
       "    </tr>\n",
       "    <tr>\n",
       "      <th>50%</th>\n",
       "      <td>552.000000</td>\n",
       "      <td>544.000000</td>\n",
       "      <td>1098.000000</td>\n",
       "      <td>NaN</td>\n",
       "      <td>NaN</td>\n",
       "      <td>NaN</td>\n",
       "    </tr>\n",
       "    <tr>\n",
       "      <th>75%</th>\n",
       "      <td>610.500000</td>\n",
       "      <td>593.500000</td>\n",
       "      <td>1204.000000</td>\n",
       "      <td>NaN</td>\n",
       "      <td>NaN</td>\n",
       "      <td>NaN</td>\n",
       "    </tr>\n",
       "    <tr>\n",
       "      <th>max</th>\n",
       "      <td>643.000000</td>\n",
       "      <td>655.000000</td>\n",
       "      <td>1298.000000</td>\n",
       "      <td>NaN</td>\n",
       "      <td>NaN</td>\n",
       "      <td>NaN</td>\n",
       "    </tr>\n",
       "  </tbody>\n",
       "</table>\n",
       "</div>"
      ],
      "text/plain": [
       "       Evidence-Based Reading and Writing        Math        Total  \\\n",
       "count                           51.000000   51.000000    51.000000   \n",
       "mean                           563.686275  556.235294  1120.019608   \n",
       "std                             47.502627   47.772623    94.155083   \n",
       "min                            480.000000  480.000000   977.000000   \n",
       "25%                            534.500000  522.500000  1057.500000   \n",
       "50%                            552.000000  544.000000  1098.000000   \n",
       "75%                            610.500000  593.500000  1204.000000   \n",
       "max                            643.000000  655.000000  1298.000000   \n",
       "\n",
       "       Unnamed: 5  Unnamed: 6  Unnamed: 7  \n",
       "count         0.0         0.0         0.0  \n",
       "mean          NaN         NaN         NaN  \n",
       "std           NaN         NaN         NaN  \n",
       "min           NaN         NaN         NaN  \n",
       "25%           NaN         NaN         NaN  \n",
       "50%           NaN         NaN         NaN  \n",
       "75%           NaN         NaN         NaN  \n",
       "max           NaN         NaN         NaN  "
      ]
     },
     "execution_count": 67,
     "metadata": {},
     "output_type": "execute_result"
    }
   ],
   "source": [
    "sat2018.describe()"
   ]
  },
  {
   "cell_type": "code",
   "execution_count": 68,
   "metadata": {},
   "outputs": [
    {
     "data": {
      "text/plain": [
       "State                                  1\n",
       "Participation                          1\n",
       "Evidence-Based Reading and Writing     1\n",
       "Math                                   1\n",
       "Total                                  1\n",
       "Unnamed: 5                            52\n",
       "Unnamed: 6                            52\n",
       "Unnamed: 7                            52\n",
       "dtype: int64"
      ]
     },
     "execution_count": 68,
     "metadata": {},
     "output_type": "execute_result"
    }
   ],
   "source": [
    "sat2018.isnull().sum()"
   ]
  },
  {
   "cell_type": "markdown",
   "metadata": {},
   "source": [
    "> \n",
    "> Remove extra, empty row at the end of the df\n",
    ">\n",
    "> Remove three extra, empty columns to the right of this df\n",
    "> \n",
    "> Participation percentage\n",
    ">\n",
    "\n",
    "\n"
   ]
  },
  {
   "cell_type": "code",
   "execution_count": 69,
   "metadata": {},
   "outputs": [],
   "source": [
    "sat2018 = sat2018.drop([\"Unnamed: 5\", \"Unnamed: 6\", \"Unnamed: 7\"], axis=1)"
   ]
  },
  {
   "cell_type": "code",
   "execution_count": 70,
   "metadata": {},
   "outputs": [],
   "source": [
    "sat2018 = sat2018.iloc[:51,]"
   ]
  },
  {
   "cell_type": "code",
   "execution_count": 71,
   "metadata": {},
   "outputs": [],
   "source": [
    "sat2018.rename(columns = {'State': 'state','Participation' : 's18_participation', 'Evidence-Based Reading and Writing':'s18_reading_writing', 'Math':'s18_math', 'Total':'s18_total'}, inplace = True)"
   ]
  },
  {
   "cell_type": "code",
   "execution_count": 72,
   "metadata": {},
   "outputs": [],
   "source": [
    "sat2018['s18_reading_writing'] = sat2018['s18_reading_writing'].map(lambda c_cell: int(c_cell))"
   ]
  },
  {
   "cell_type": "code",
   "execution_count": 73,
   "metadata": {},
   "outputs": [],
   "source": [
    "sat2018['s18_math'] = sat2018['s18_math'].map(lambda c_cell: int(c_cell))"
   ]
  },
  {
   "cell_type": "code",
   "execution_count": 74,
   "metadata": {},
   "outputs": [],
   "source": [
    "sat2018['s18_total'] = sat2018['s18_total'].map(lambda c_cell: int(c_cell))"
   ]
  },
  {
   "cell_type": "code",
   "execution_count": 75,
   "metadata": {},
   "outputs": [],
   "source": [
    "sat2018['s18_participation'] = sat2018['s18_participation'].map(lambda p_cell: p_cell.rstrip('%'))\n",
    "sat2018['s18_participation'] = sat2018['s18_participation'].map(lambda p_cell: int(p_cell)) \n",
    "sat2018['s18_participation'] = sat2018['s18_participation'].map(lambda p_cell: (p_cell * .01)) "
   ]
  },
  {
   "cell_type": "markdown",
   "metadata": {},
   "source": [
    "Following the cleaning of the 2018 datasets, the composite 2018 and 2017 .csv files were merged into a final dataset.  The datasets were joined using the `states` as the key."
   ]
  },
  {
   "cell_type": "code",
   "execution_count": 76,
   "metadata": {},
   "outputs": [],
   "source": [
    "act2018.loc[8,'state'] = ('District of Columbia')\n",
    "# non-int based index using row 8 and the column 'state' to change the string\n"
   ]
  },
  {
   "cell_type": "code",
   "execution_count": 77,
   "metadata": {},
   "outputs": [],
   "source": [
    "combined_2018 = pd.merge(act2018, sat2018, how = \"right\", on='state')"
   ]
  },
  {
   "cell_type": "code",
   "execution_count": 78,
   "metadata": {},
   "outputs": [],
   "source": [
    "combined_2018.to_csv('../data/combined_2018.csv') "
   ]
  },
  {
   "cell_type": "code",
   "execution_count": 79,
   "metadata": {},
   "outputs": [],
   "source": [
    "final = pd.merge(combined_2017, combined_2018, how = \"right\", on='state')"
   ]
  },
  {
   "cell_type": "code",
   "execution_count": 80,
   "metadata": {},
   "outputs": [
    {
     "data": {
      "text/html": [
       "<div>\n",
       "<style scoped>\n",
       "    .dataframe tbody tr th:only-of-type {\n",
       "        vertical-align: middle;\n",
       "    }\n",
       "\n",
       "    .dataframe tbody tr th {\n",
       "        vertical-align: top;\n",
       "    }\n",
       "\n",
       "    .dataframe thead th {\n",
       "        text-align: right;\n",
       "    }\n",
       "</style>\n",
       "<table border=\"1\" class=\"dataframe\">\n",
       "  <thead>\n",
       "    <tr style=\"text-align: right;\">\n",
       "      <th></th>\n",
       "      <th>state</th>\n",
       "      <th>a17_participation</th>\n",
       "      <th>a17_english</th>\n",
       "      <th>a17_math</th>\n",
       "      <th>a17_reading</th>\n",
       "      <th>a17_science</th>\n",
       "      <th>a17_composite</th>\n",
       "      <th>s17_participation</th>\n",
       "      <th>s17_reading_writing</th>\n",
       "      <th>s17_math</th>\n",
       "      <th>s17_total</th>\n",
       "      <th>a18_participation</th>\n",
       "      <th>a18_composite</th>\n",
       "      <th>s18_participation</th>\n",
       "      <th>s18_reading_writing</th>\n",
       "      <th>s18_math</th>\n",
       "      <th>s18_total</th>\n",
       "    </tr>\n",
       "  </thead>\n",
       "  <tbody>\n",
       "    <tr>\n",
       "      <th>0</th>\n",
       "      <td>Alabama</td>\n",
       "      <td>1.00</td>\n",
       "      <td>18.9</td>\n",
       "      <td>18.4</td>\n",
       "      <td>19.7</td>\n",
       "      <td>19.4</td>\n",
       "      <td>19.2</td>\n",
       "      <td>0.05</td>\n",
       "      <td>593</td>\n",
       "      <td>572</td>\n",
       "      <td>1165</td>\n",
       "      <td>1.00</td>\n",
       "      <td>19.1</td>\n",
       "      <td>0.06</td>\n",
       "      <td>595</td>\n",
       "      <td>571</td>\n",
       "      <td>1166</td>\n",
       "    </tr>\n",
       "    <tr>\n",
       "      <th>1</th>\n",
       "      <td>Alaska</td>\n",
       "      <td>0.65</td>\n",
       "      <td>18.7</td>\n",
       "      <td>19.8</td>\n",
       "      <td>20.4</td>\n",
       "      <td>19.9</td>\n",
       "      <td>19.8</td>\n",
       "      <td>0.38</td>\n",
       "      <td>547</td>\n",
       "      <td>533</td>\n",
       "      <td>1080</td>\n",
       "      <td>0.33</td>\n",
       "      <td>20.8</td>\n",
       "      <td>0.43</td>\n",
       "      <td>562</td>\n",
       "      <td>544</td>\n",
       "      <td>1106</td>\n",
       "    </tr>\n",
       "  </tbody>\n",
       "</table>\n",
       "</div>"
      ],
      "text/plain": [
       "     state  a17_participation  a17_english  a17_math  a17_reading  \\\n",
       "0  Alabama               1.00         18.9      18.4         19.7   \n",
       "1   Alaska               0.65         18.7      19.8         20.4   \n",
       "\n",
       "   a17_science  a17_composite  s17_participation  s17_reading_writing  \\\n",
       "0         19.4           19.2               0.05                  593   \n",
       "1         19.9           19.8               0.38                  547   \n",
       "\n",
       "   s17_math  s17_total  a18_participation  a18_composite  s18_participation  \\\n",
       "0       572       1165               1.00           19.1               0.06   \n",
       "1       533       1080               0.33           20.8               0.43   \n",
       "\n",
       "   s18_reading_writing  s18_math  s18_total  \n",
       "0                  595       571       1166  \n",
       "1                  562       544       1106  "
      ]
     },
     "execution_count": 80,
     "metadata": {},
     "output_type": "execute_result"
    }
   ],
   "source": [
    "final.head(2)"
   ]
  },
  {
   "cell_type": "code",
   "execution_count": 81,
   "metadata": {},
   "outputs": [],
   "source": [
    "final.to_csv('../data/final.csv') "
   ]
  },
  {
   "cell_type": "markdown",
   "metadata": {},
   "source": [
    "## Exploratory Data Analysis\n",
    "\n",
    "\n",
    "### Summary Statistics\n",
    "Transpose the output of pandas `describe` method to create a quick overview of each numeric feature."
   ]
  },
  {
   "cell_type": "code",
   "execution_count": 82,
   "metadata": {},
   "outputs": [
    {
     "data": {
      "text/html": [
       "<div>\n",
       "<style scoped>\n",
       "    .dataframe tbody tr th:only-of-type {\n",
       "        vertical-align: middle;\n",
       "    }\n",
       "\n",
       "    .dataframe tbody tr th {\n",
       "        vertical-align: top;\n",
       "    }\n",
       "\n",
       "    .dataframe thead th {\n",
       "        text-align: right;\n",
       "    }\n",
       "</style>\n",
       "<table border=\"1\" class=\"dataframe\">\n",
       "  <thead>\n",
       "    <tr style=\"text-align: right;\">\n",
       "      <th></th>\n",
       "      <th>a17_participation</th>\n",
       "      <th>a17_english</th>\n",
       "      <th>a17_math</th>\n",
       "      <th>a17_reading</th>\n",
       "      <th>a17_science</th>\n",
       "      <th>a17_composite</th>\n",
       "      <th>s17_participation</th>\n",
       "      <th>s17_reading_writing</th>\n",
       "      <th>s17_math</th>\n",
       "      <th>s17_total</th>\n",
       "      <th>a18_participation</th>\n",
       "      <th>a18_composite</th>\n",
       "      <th>s18_participation</th>\n",
       "      <th>s18_reading_writing</th>\n",
       "      <th>s18_math</th>\n",
       "      <th>s18_total</th>\n",
       "    </tr>\n",
       "  </thead>\n",
       "  <tbody>\n",
       "    <tr>\n",
       "      <th>count</th>\n",
       "      <td>51.000000</td>\n",
       "      <td>51.000000</td>\n",
       "      <td>51.000000</td>\n",
       "      <td>51.000000</td>\n",
       "      <td>51.000000</td>\n",
       "      <td>51.000000</td>\n",
       "      <td>51.000000</td>\n",
       "      <td>51.000000</td>\n",
       "      <td>51.000000</td>\n",
       "      <td>51.000000</td>\n",
       "      <td>51.000000</td>\n",
       "      <td>51.000000</td>\n",
       "      <td>51.000000</td>\n",
       "      <td>51.000000</td>\n",
       "      <td>51.000000</td>\n",
       "      <td>51.000000</td>\n",
       "    </tr>\n",
       "    <tr>\n",
       "      <th>mean</th>\n",
       "      <td>0.652549</td>\n",
       "      <td>20.931373</td>\n",
       "      <td>21.182353</td>\n",
       "      <td>22.013725</td>\n",
       "      <td>21.462745</td>\n",
       "      <td>21.519608</td>\n",
       "      <td>0.398039</td>\n",
       "      <td>569.117647</td>\n",
       "      <td>556.882353</td>\n",
       "      <td>1126.098039</td>\n",
       "      <td>0.617255</td>\n",
       "      <td>21.496078</td>\n",
       "      <td>0.457451</td>\n",
       "      <td>563.686275</td>\n",
       "      <td>556.235294</td>\n",
       "      <td>1120.019608</td>\n",
       "    </tr>\n",
       "    <tr>\n",
       "      <th>std</th>\n",
       "      <td>0.321408</td>\n",
       "      <td>2.353677</td>\n",
       "      <td>1.981989</td>\n",
       "      <td>2.067271</td>\n",
       "      <td>1.753392</td>\n",
       "      <td>2.020695</td>\n",
       "      <td>0.352766</td>\n",
       "      <td>45.666901</td>\n",
       "      <td>47.121395</td>\n",
       "      <td>92.494812</td>\n",
       "      <td>0.340371</td>\n",
       "      <td>2.111583</td>\n",
       "      <td>0.373143</td>\n",
       "      <td>47.502627</td>\n",
       "      <td>47.772623</td>\n",
       "      <td>94.155083</td>\n",
       "    </tr>\n",
       "    <tr>\n",
       "      <th>min</th>\n",
       "      <td>0.080000</td>\n",
       "      <td>16.300000</td>\n",
       "      <td>18.000000</td>\n",
       "      <td>18.100000</td>\n",
       "      <td>18.200000</td>\n",
       "      <td>17.800000</td>\n",
       "      <td>0.020000</td>\n",
       "      <td>482.000000</td>\n",
       "      <td>468.000000</td>\n",
       "      <td>950.000000</td>\n",
       "      <td>0.070000</td>\n",
       "      <td>17.700000</td>\n",
       "      <td>0.020000</td>\n",
       "      <td>480.000000</td>\n",
       "      <td>480.000000</td>\n",
       "      <td>977.000000</td>\n",
       "    </tr>\n",
       "    <tr>\n",
       "      <th>25%</th>\n",
       "      <td>0.310000</td>\n",
       "      <td>19.000000</td>\n",
       "      <td>19.400000</td>\n",
       "      <td>20.450000</td>\n",
       "      <td>19.950000</td>\n",
       "      <td>19.800000</td>\n",
       "      <td>0.040000</td>\n",
       "      <td>533.500000</td>\n",
       "      <td>523.500000</td>\n",
       "      <td>1055.500000</td>\n",
       "      <td>0.285000</td>\n",
       "      <td>19.950000</td>\n",
       "      <td>0.045000</td>\n",
       "      <td>534.500000</td>\n",
       "      <td>522.500000</td>\n",
       "      <td>1057.500000</td>\n",
       "    </tr>\n",
       "    <tr>\n",
       "      <th>50%</th>\n",
       "      <td>0.690000</td>\n",
       "      <td>20.700000</td>\n",
       "      <td>20.900000</td>\n",
       "      <td>21.800000</td>\n",
       "      <td>21.300000</td>\n",
       "      <td>21.400000</td>\n",
       "      <td>0.380000</td>\n",
       "      <td>559.000000</td>\n",
       "      <td>548.000000</td>\n",
       "      <td>1107.000000</td>\n",
       "      <td>0.660000</td>\n",
       "      <td>21.300000</td>\n",
       "      <td>0.520000</td>\n",
       "      <td>552.000000</td>\n",
       "      <td>544.000000</td>\n",
       "      <td>1098.000000</td>\n",
       "    </tr>\n",
       "    <tr>\n",
       "      <th>75%</th>\n",
       "      <td>1.000000</td>\n",
       "      <td>23.300000</td>\n",
       "      <td>23.100000</td>\n",
       "      <td>24.150000</td>\n",
       "      <td>23.200000</td>\n",
       "      <td>23.600000</td>\n",
       "      <td>0.660000</td>\n",
       "      <td>613.000000</td>\n",
       "      <td>599.000000</td>\n",
       "      <td>1212.000000</td>\n",
       "      <td>1.000000</td>\n",
       "      <td>23.650000</td>\n",
       "      <td>0.775000</td>\n",
       "      <td>610.500000</td>\n",
       "      <td>593.500000</td>\n",
       "      <td>1204.000000</td>\n",
       "    </tr>\n",
       "    <tr>\n",
       "      <th>max</th>\n",
       "      <td>1.000000</td>\n",
       "      <td>25.500000</td>\n",
       "      <td>25.300000</td>\n",
       "      <td>26.000000</td>\n",
       "      <td>24.900000</td>\n",
       "      <td>25.500000</td>\n",
       "      <td>1.000000</td>\n",
       "      <td>644.000000</td>\n",
       "      <td>651.000000</td>\n",
       "      <td>1295.000000</td>\n",
       "      <td>1.000000</td>\n",
       "      <td>25.600000</td>\n",
       "      <td>1.000000</td>\n",
       "      <td>643.000000</td>\n",
       "      <td>655.000000</td>\n",
       "      <td>1298.000000</td>\n",
       "    </tr>\n",
       "  </tbody>\n",
       "</table>\n",
       "</div>"
      ],
      "text/plain": [
       "       a17_participation  a17_english   a17_math  a17_reading  a17_science  \\\n",
       "count          51.000000    51.000000  51.000000    51.000000    51.000000   \n",
       "mean            0.652549    20.931373  21.182353    22.013725    21.462745   \n",
       "std             0.321408     2.353677   1.981989     2.067271     1.753392   \n",
       "min             0.080000    16.300000  18.000000    18.100000    18.200000   \n",
       "25%             0.310000    19.000000  19.400000    20.450000    19.950000   \n",
       "50%             0.690000    20.700000  20.900000    21.800000    21.300000   \n",
       "75%             1.000000    23.300000  23.100000    24.150000    23.200000   \n",
       "max             1.000000    25.500000  25.300000    26.000000    24.900000   \n",
       "\n",
       "       a17_composite  s17_participation  s17_reading_writing    s17_math  \\\n",
       "count      51.000000          51.000000            51.000000   51.000000   \n",
       "mean       21.519608           0.398039           569.117647  556.882353   \n",
       "std         2.020695           0.352766            45.666901   47.121395   \n",
       "min        17.800000           0.020000           482.000000  468.000000   \n",
       "25%        19.800000           0.040000           533.500000  523.500000   \n",
       "50%        21.400000           0.380000           559.000000  548.000000   \n",
       "75%        23.600000           0.660000           613.000000  599.000000   \n",
       "max        25.500000           1.000000           644.000000  651.000000   \n",
       "\n",
       "         s17_total  a18_participation  a18_composite  s18_participation  \\\n",
       "count    51.000000          51.000000      51.000000          51.000000   \n",
       "mean   1126.098039           0.617255      21.496078           0.457451   \n",
       "std      92.494812           0.340371       2.111583           0.373143   \n",
       "min     950.000000           0.070000      17.700000           0.020000   \n",
       "25%    1055.500000           0.285000      19.950000           0.045000   \n",
       "50%    1107.000000           0.660000      21.300000           0.520000   \n",
       "75%    1212.000000           1.000000      23.650000           0.775000   \n",
       "max    1295.000000           1.000000      25.600000           1.000000   \n",
       "\n",
       "       s18_reading_writing    s18_math    s18_total  \n",
       "count            51.000000   51.000000    51.000000  \n",
       "mean            563.686275  556.235294  1120.019608  \n",
       "std              47.502627   47.772623    94.155083  \n",
       "min             480.000000  480.000000   977.000000  \n",
       "25%             534.500000  522.500000  1057.500000  \n",
       "50%             552.000000  544.000000  1098.000000  \n",
       "75%             610.500000  593.500000  1204.000000  \n",
       "max             643.000000  655.000000  1298.000000  "
      ]
     },
     "execution_count": 82,
     "metadata": {},
     "output_type": "execute_result"
    }
   ],
   "source": [
    "final.describe()"
   ]
  },
  {
   "cell_type": "markdown",
   "metadata": {},
   "source": [
    "#### Manually calculate standard deviation\n",
    "\n",
    "$$\\sigma = \\sqrt{\\frac{1}{n}\\sum_{i=1}^n(x_i - \\mu)^2}$$\n",
    "\n",
    "- Write a function to calculate standard deviation using the formula above"
   ]
  },
  {
   "cell_type": "code",
   "execution_count": 83,
   "metadata": {},
   "outputs": [],
   "source": [
    "import numpy as np\n",
    "\n",
    "# n = number of things\n",
    "# E = sum of things\n",
    "# m = mean\n",
    "#squared deviation\n",
    "\n",
    "the_input = []\n",
    "\n",
    "the_output = 0\n",
    "\n",
    "def standard_deviation_function (the_input):\n",
    "    \n",
    "    n = len(the_input)\n",
    "    \n",
    "    E = sum(the_input)\n",
    "    \n",
    "    m = (E/n)\n",
    "    \n",
    "    v = []\n",
    "    \n",
    "    for i in the_input:\n",
    "        \n",
    "        ii = i - m\n",
    "        \n",
    "        iii = ii**2\n",
    "        \n",
    "        (v).append(iii)\n",
    "        \n",
    "    sumofsquares = sum(v)\n",
    "    \n",
    "    variance = sumofsquares / n\n",
    "         \n",
    "    standard_deviation = np.sqrt(variance)\n",
    "    \n",
    "    the_output = standard_deviation\n",
    "    \n",
    "    #print (f\"The STANDARD DEVIATION of {the_input} is: '{the_output}'.\")\n",
    "    \n",
    "    return the_output"
   ]
  },
  {
   "cell_type": "markdown",
   "metadata": {},
   "source": [
    ">\n",
    "> 1. **Create an empty dictionary** std_dict = { }\n",
    "> 2. **Piece of code that** identifies the correct columns, without also identifying the incorrect columns \n",
    "> 3. **Dictionary key** == names of the correct columns \n",
    "> 4. **Dictionary value** == the standard deviation of the columns in question \n",
    "> 6. \n",
    "> **GOAL**             \n",
    "   std_dict = {     \n",
    "        'a17_participation':       0.321408,\n",
    "        'a17_english':             2.353677,\n",
    "        'a17_math':                1.981989,\n",
    "        'a17_reading':             2.067271,\n",
    "        'a17_science':             1.753392,\n",
    "        'a17_composite':           2.020695,\n",
    "        's17_participation':       0.352766,\n",
    "        's17_reading_writing':    45.666901,\n",
    "        's17_math':               47.121395,\n",
    "        's17_total':              92.494812,\n",
    "        'a18_participation':       0.340371,\n",
    "        'a18_composite':           2.111583,\n",
    "        's18_participation':       0.373143,\n",
    "        's18_reading_writing':    47.502627,\n",
    "        's18_math':               47.772623,\n",
    "        's18_total':              94.155083,\n",
    "        }\n",
    "> \n",
    "> final.std(axis=0) \n",
    ">\n",
    "> The above values were derived from the standard deviation method being run on the entire data frame of 'final'.  The axis 0 indicates that the calculation is to be run on the rows, for the columns.\n",
    ">\n",
    ">  \n",
    ">\n",
    "> d_key = final.columns.drop('state')\n",
    ">\n",
    "> sd_dict =  pd.Series(d_key).apply(lambda key: {key:final[key].agg('std')})\n",
    ">\n",
    ">\n",
    ">\n",
    ">\n",
    "\n"
   ]
  },
  {
   "cell_type": "code",
   "execution_count": 84,
   "metadata": {},
   "outputs": [],
   "source": [
    "d_key = final.columns.drop('state')\n",
    "\n",
    "sd_dict =  pd.Series(d_key).apply(lambda key: {key:final[key].agg('std')})"
   ]
  },
  {
   "cell_type": "markdown",
   "metadata": {},
   "source": [
    "Do your manually calculated standard deviations match up with the output from pandas `describe`? What about numpy's `std` method?"
   ]
  },
  {
   "cell_type": "markdown",
   "metadata": {},
   "source": [
    "> Surprisingly, yes.\n",
    ">\n",
    "> **final.std(axis=0)**             \n",
    "   std_dict = {     \n",
    "        'a17_participation':       0.321408,\n",
    "        'a17_english':             2.353677,\n",
    "        'a17_math':                1.981989,\n",
    "        'a17_reading':             2.067271,\n",
    "        'a17_science':             1.753392,\n",
    "        'a17_composite':           2.020695,\n",
    "        's17_participation':       0.352766,\n",
    "        's17_reading_writing':    45.666901,\n",
    "        's17_math':               47.121395,\n",
    "        's17_total':              92.494812,\n",
    "        'a18_participation':       0.340371,\n",
    "        'a18_composite':           2.111583,\n",
    "        's18_participation':       0.373143,\n",
    "        's18_reading_writing':    47.502627,\n",
    "        's18_math':               47.772623,\n",
    "        's18_total':              94.155083,\n",
    "        }\n",
    "> \n",
    "> **pd.Series(d_key).apply(lambda key: {key:final[key].agg('std')})**\n",
    ">\n",
    ">sd_dict =  \n",
    ">   0     {'a17_participation': 0.47609522856952324}\n",
    "    1              {'a17_english': 2.35367713980303}\n",
    "    2               {'a17_math': 1.9819894936505533}\n",
    "    3            {'a17_reading': 2.0672706264873146}\n",
    "    4            {'a17_science': 1.7533922304280611}\n",
    "    5           {'a17_composite': 2.020694891154341}\n",
    "    6     {'s17_participation': 0.35276632270013036}\n",
    "    7     {'s17_reading_writing': 45.66690138768932}\n",
    "    8                {'s17_math': 47.12139516560329}\n",
    "    9               {'s17_total': 92.49481172519046}\n",
    "    10    {'a18_participation': 0.34037084734960815}\n",
    "    11          {'a18_composite': 2.111583366510896}\n",
    "    12    {'s18_participation': 0.37314256330391965}\n",
    "    13    {'s18_reading_writing': 47.50262737831599}\n",
    "    14               {'s18_math': 47.77262322095955}\n",
    "    15              {'s18_total': 94.15508275097599}\n",
    "\n"
   ]
  },
  {
   "cell_type": "markdown",
   "metadata": {},
   "source": [
    "#### Investigate trends in the data\n",
    "Using sorting and/or masking (along with the `.head` method to not print our entire dataframe), consider the following questions:\n",
    "\n",
    "- Which states have the highest and lowest participation rates for the:\n",
    "    - 2017 SAT? \n",
    "    - 2018 SAT?\n",
    "    - 2017 ACT?\n",
    "    - 2018 ACT?\n",
    "\n",
    "- Which states have the highest and lowest mean total/composite scores for the:\n",
    "    - 2017 SAT?\n",
    "    - 2018 SAT?\n",
    "    - 2017 ACT?\n",
    "    - 2018 ACT?\n",
    "- Do any states with 100% participation on a given test have a rate change year-to-year?\n",
    "- Do any states show have >50% participation on *both* tests either year?\n",
    "\n",
    "Based on what you've just observed, have you identified any states that you're especially interested in? **Make a note of these and state *why* you think they're interesting**.\n",
    "\n",
    "**You should comment on your findings at each step in a markdown cell below your code block**. Make sure you include at least one example of sorting your dataframe by a column, and one example of using boolean filtering (i.e., masking) to select a subset of the dataframe."
   ]
  },
  {
   "cell_type": "markdown",
   "metadata": {},
   "source": [
    "\\# **final.loc[(final.a18_participation > .99)]**\n",
    "\\# **final.sort_values('a18_participation',ascending=False)**"
   ]
  },
  {
   "cell_type": "code",
   "execution_count": 85,
   "metadata": {},
   "outputs": [
    {
     "data": {
      "text/html": [
       "<div>\n",
       "<style scoped>\n",
       "    .dataframe tbody tr th:only-of-type {\n",
       "        vertical-align: middle;\n",
       "    }\n",
       "\n",
       "    .dataframe tbody tr th {\n",
       "        vertical-align: top;\n",
       "    }\n",
       "\n",
       "    .dataframe thead th {\n",
       "        text-align: right;\n",
       "    }\n",
       "</style>\n",
       "<table border=\"1\" class=\"dataframe\">\n",
       "  <thead>\n",
       "    <tr style=\"text-align: right;\">\n",
       "      <th></th>\n",
       "      <th>state</th>\n",
       "      <th>a17_participation</th>\n",
       "      <th>a17_english</th>\n",
       "      <th>a17_math</th>\n",
       "      <th>a17_reading</th>\n",
       "      <th>a17_science</th>\n",
       "      <th>a17_composite</th>\n",
       "      <th>s17_participation</th>\n",
       "      <th>s17_reading_writing</th>\n",
       "      <th>s17_math</th>\n",
       "      <th>s17_total</th>\n",
       "      <th>a18_participation</th>\n",
       "      <th>a18_composite</th>\n",
       "      <th>s18_participation</th>\n",
       "      <th>s18_reading_writing</th>\n",
       "      <th>s18_math</th>\n",
       "      <th>s18_total</th>\n",
       "    </tr>\n",
       "  </thead>\n",
       "  <tbody>\n",
       "    <tr>\n",
       "      <th>0</th>\n",
       "      <td>Alabama</td>\n",
       "      <td>1.00</td>\n",
       "      <td>18.9</td>\n",
       "      <td>18.4</td>\n",
       "      <td>19.7</td>\n",
       "      <td>19.4</td>\n",
       "      <td>19.2</td>\n",
       "      <td>0.05</td>\n",
       "      <td>593</td>\n",
       "      <td>572</td>\n",
       "      <td>1165</td>\n",
       "      <td>1.00</td>\n",
       "      <td>19.1</td>\n",
       "      <td>0.06</td>\n",
       "      <td>595</td>\n",
       "      <td>571</td>\n",
       "      <td>1166</td>\n",
       "    </tr>\n",
       "    <tr>\n",
       "      <th>1</th>\n",
       "      <td>Alaska</td>\n",
       "      <td>0.65</td>\n",
       "      <td>18.7</td>\n",
       "      <td>19.8</td>\n",
       "      <td>20.4</td>\n",
       "      <td>19.9</td>\n",
       "      <td>19.8</td>\n",
       "      <td>0.38</td>\n",
       "      <td>547</td>\n",
       "      <td>533</td>\n",
       "      <td>1080</td>\n",
       "      <td>0.33</td>\n",
       "      <td>20.8</td>\n",
       "      <td>0.43</td>\n",
       "      <td>562</td>\n",
       "      <td>544</td>\n",
       "      <td>1106</td>\n",
       "    </tr>\n",
       "    <tr>\n",
       "      <th>2</th>\n",
       "      <td>Arizona</td>\n",
       "      <td>0.62</td>\n",
       "      <td>18.6</td>\n",
       "      <td>19.8</td>\n",
       "      <td>20.1</td>\n",
       "      <td>19.8</td>\n",
       "      <td>19.7</td>\n",
       "      <td>0.30</td>\n",
       "      <td>563</td>\n",
       "      <td>553</td>\n",
       "      <td>1116</td>\n",
       "      <td>0.66</td>\n",
       "      <td>19.2</td>\n",
       "      <td>0.29</td>\n",
       "      <td>577</td>\n",
       "      <td>572</td>\n",
       "      <td>1149</td>\n",
       "    </tr>\n",
       "    <tr>\n",
       "      <th>3</th>\n",
       "      <td>Arkansas</td>\n",
       "      <td>1.00</td>\n",
       "      <td>18.9</td>\n",
       "      <td>19.0</td>\n",
       "      <td>19.7</td>\n",
       "      <td>19.5</td>\n",
       "      <td>19.4</td>\n",
       "      <td>0.03</td>\n",
       "      <td>614</td>\n",
       "      <td>594</td>\n",
       "      <td>1208</td>\n",
       "      <td>1.00</td>\n",
       "      <td>19.4</td>\n",
       "      <td>0.05</td>\n",
       "      <td>592</td>\n",
       "      <td>576</td>\n",
       "      <td>1169</td>\n",
       "    </tr>\n",
       "    <tr>\n",
       "      <th>4</th>\n",
       "      <td>California</td>\n",
       "      <td>0.31</td>\n",
       "      <td>22.5</td>\n",
       "      <td>22.7</td>\n",
       "      <td>23.1</td>\n",
       "      <td>22.2</td>\n",
       "      <td>22.8</td>\n",
       "      <td>0.53</td>\n",
       "      <td>531</td>\n",
       "      <td>524</td>\n",
       "      <td>1055</td>\n",
       "      <td>0.27</td>\n",
       "      <td>22.7</td>\n",
       "      <td>0.60</td>\n",
       "      <td>540</td>\n",
       "      <td>536</td>\n",
       "      <td>1076</td>\n",
       "    </tr>\n",
       "  </tbody>\n",
       "</table>\n",
       "</div>"
      ],
      "text/plain": [
       "        state  a17_participation  a17_english  a17_math  a17_reading  \\\n",
       "0     Alabama               1.00         18.9      18.4         19.7   \n",
       "1      Alaska               0.65         18.7      19.8         20.4   \n",
       "2     Arizona               0.62         18.6      19.8         20.1   \n",
       "3    Arkansas               1.00         18.9      19.0         19.7   \n",
       "4  California               0.31         22.5      22.7         23.1   \n",
       "\n",
       "   a17_science  a17_composite  s17_participation  s17_reading_writing  \\\n",
       "0         19.4           19.2               0.05                  593   \n",
       "1         19.9           19.8               0.38                  547   \n",
       "2         19.8           19.7               0.30                  563   \n",
       "3         19.5           19.4               0.03                  614   \n",
       "4         22.2           22.8               0.53                  531   \n",
       "\n",
       "   s17_math  s17_total  a18_participation  a18_composite  s18_participation  \\\n",
       "0       572       1165               1.00           19.1               0.06   \n",
       "1       533       1080               0.33           20.8               0.43   \n",
       "2       553       1116               0.66           19.2               0.29   \n",
       "3       594       1208               1.00           19.4               0.05   \n",
       "4       524       1055               0.27           22.7               0.60   \n",
       "\n",
       "   s18_reading_writing  s18_math  s18_total  \n",
       "0                  595       571       1166  \n",
       "1                  562       544       1106  \n",
       "2                  577       572       1149  \n",
       "3                  592       576       1169  \n",
       "4                  540       536       1076  "
      ]
     },
     "execution_count": 85,
     "metadata": {},
     "output_type": "execute_result"
    }
   ],
   "source": [
    "final.head()"
   ]
  },
  {
   "cell_type": "markdown",
   "metadata": {},
   "source": [
    "## Visualize the data\n",
    "\n",
    "There's not a magic bullet recommendation for the right number of plots to understand a given dataset, but visualizing your data is *always* a good idea. Not only does it allow you to quickly convey your findings (even if you have a non-technical audience), it will often reveal trends in your data that escaped you when you were looking only at numbers.\n",
    "\n",
    "Some recommendations on plotting:\n",
    "- Plots have titles\n",
    "- Plots have axis labels\n",
    "- Plots have appropriate tick labels\n",
    "- All text is legible in a plot\n",
    "- Plots demonstrate meaningful and valid relationships\n",
    "- Plots are interpreted to aid understanding\n",
    "\n",
    "There is such a thing as too many plots, and there are a *lot* of bad plots. You might make some! (But hopefully not with the guided prompts below)."
   ]
  },
  {
   "cell_type": "markdown",
   "metadata": {},
   "source": [
    "# -----------------------------------------------------------------------------------------"
   ]
  },
  {
   "cell_type": "markdown",
   "metadata": {},
   "source": [
    "> The cells between these two dividers contain the additional code used to merge US Census Data with the provided datasets"
   ]
  },
  {
   "cell_type": "code",
   "execution_count": 86,
   "metadata": {},
   "outputs": [],
   "source": [
    "geog = pd.read_csv(\"../data/region_and_pop - Sheet1.csv\")"
   ]
  },
  {
   "cell_type": "code",
   "execution_count": 87,
   "metadata": {},
   "outputs": [
    {
     "data": {
      "text/html": [
       "<div>\n",
       "<style scoped>\n",
       "    .dataframe tbody tr th:only-of-type {\n",
       "        vertical-align: middle;\n",
       "    }\n",
       "\n",
       "    .dataframe tbody tr th {\n",
       "        vertical-align: top;\n",
       "    }\n",
       "\n",
       "    .dataframe thead th {\n",
       "        text-align: right;\n",
       "    }\n",
       "</style>\n",
       "<table border=\"1\" class=\"dataframe\">\n",
       "  <thead>\n",
       "    <tr style=\"text-align: right;\">\n",
       "      <th></th>\n",
       "      <th>state</th>\n",
       "      <th>a17_participation</th>\n",
       "      <th>a17_english</th>\n",
       "      <th>a17_math</th>\n",
       "      <th>a17_reading</th>\n",
       "      <th>a17_science</th>\n",
       "      <th>a17_composite</th>\n",
       "      <th>s17_participation</th>\n",
       "      <th>s17_reading_writing</th>\n",
       "      <th>s17_math</th>\n",
       "      <th>s17_total</th>\n",
       "      <th>a18_participation</th>\n",
       "      <th>a18_composite</th>\n",
       "      <th>s18_participation</th>\n",
       "      <th>s18_reading_writing</th>\n",
       "      <th>s18_math</th>\n",
       "      <th>s18_total</th>\n",
       "    </tr>\n",
       "  </thead>\n",
       "  <tbody>\n",
       "    <tr>\n",
       "      <th>0</th>\n",
       "      <td>Alabama</td>\n",
       "      <td>1.00</td>\n",
       "      <td>18.9</td>\n",
       "      <td>18.4</td>\n",
       "      <td>19.7</td>\n",
       "      <td>19.4</td>\n",
       "      <td>19.2</td>\n",
       "      <td>0.05</td>\n",
       "      <td>593</td>\n",
       "      <td>572</td>\n",
       "      <td>1165</td>\n",
       "      <td>1.00</td>\n",
       "      <td>19.1</td>\n",
       "      <td>0.06</td>\n",
       "      <td>595</td>\n",
       "      <td>571</td>\n",
       "      <td>1166</td>\n",
       "    </tr>\n",
       "    <tr>\n",
       "      <th>1</th>\n",
       "      <td>Alaska</td>\n",
       "      <td>0.65</td>\n",
       "      <td>18.7</td>\n",
       "      <td>19.8</td>\n",
       "      <td>20.4</td>\n",
       "      <td>19.9</td>\n",
       "      <td>19.8</td>\n",
       "      <td>0.38</td>\n",
       "      <td>547</td>\n",
       "      <td>533</td>\n",
       "      <td>1080</td>\n",
       "      <td>0.33</td>\n",
       "      <td>20.8</td>\n",
       "      <td>0.43</td>\n",
       "      <td>562</td>\n",
       "      <td>544</td>\n",
       "      <td>1106</td>\n",
       "    </tr>\n",
       "  </tbody>\n",
       "</table>\n",
       "</div>"
      ],
      "text/plain": [
       "     state  a17_participation  a17_english  a17_math  a17_reading  \\\n",
       "0  Alabama               1.00         18.9      18.4         19.7   \n",
       "1   Alaska               0.65         18.7      19.8         20.4   \n",
       "\n",
       "   a17_science  a17_composite  s17_participation  s17_reading_writing  \\\n",
       "0         19.4           19.2               0.05                  593   \n",
       "1         19.9           19.8               0.38                  547   \n",
       "\n",
       "   s17_math  s17_total  a18_participation  a18_composite  s18_participation  \\\n",
       "0       572       1165               1.00           19.1               0.06   \n",
       "1       533       1080               0.33           20.8               0.43   \n",
       "\n",
       "   s18_reading_writing  s18_math  s18_total  \n",
       "0                  595       571       1166  \n",
       "1                  562       544       1106  "
      ]
     },
     "execution_count": 87,
     "metadata": {},
     "output_type": "execute_result"
    }
   ],
   "source": [
    "final.head(2)"
   ]
  },
  {
   "cell_type": "code",
   "execution_count": 88,
   "metadata": {},
   "outputs": [
    {
     "data": {
      "text/plain": [
       "state                   object\n",
       "a17_participation      float64\n",
       "a17_english            float64\n",
       "a17_math               float64\n",
       "a17_reading            float64\n",
       "a17_science            float64\n",
       "a17_composite          float64\n",
       "s17_participation      float64\n",
       "s17_reading_writing      int64\n",
       "s17_math                 int64\n",
       "s17_total                int64\n",
       "a18_participation      float64\n",
       "a18_composite          float64\n",
       "s18_participation      float64\n",
       "s18_reading_writing      int64\n",
       "s18_math                 int64\n",
       "s18_total                int64\n",
       "dtype: object"
      ]
     },
     "execution_count": 88,
     "metadata": {},
     "output_type": "execute_result"
    }
   ],
   "source": [
    "final.dtypes"
   ]
  },
  {
   "cell_type": "code",
   "execution_count": 89,
   "metadata": {},
   "outputs": [
    {
     "data": {
      "text/html": [
       "<div>\n",
       "<style scoped>\n",
       "    .dataframe tbody tr th:only-of-type {\n",
       "        vertical-align: middle;\n",
       "    }\n",
       "\n",
       "    .dataframe tbody tr th {\n",
       "        vertical-align: top;\n",
       "    }\n",
       "\n",
       "    .dataframe thead th {\n",
       "        text-align: right;\n",
       "    }\n",
       "</style>\n",
       "<table border=\"1\" class=\"dataframe\">\n",
       "  <thead>\n",
       "    <tr style=\"text-align: right;\">\n",
       "      <th></th>\n",
       "      <th>region</th>\n",
       "      <th>division</th>\n",
       "      <th>state</th>\n",
       "      <th>tot_est_pop_15_to_17</th>\n",
       "      <th>tot_est_pop_15_to_17_enrolled_in_school</th>\n",
       "      <th>percent_est_pop_15_to_17_enrolled_in_school</th>\n",
       "      <th>public_school_est_pop_15_to_17_enrolled_in_school</th>\n",
       "      <th>public_school_percent_est_15_to_17_enrolled_in_school</th>\n",
       "      <th>private_school_est_pop_15_to_17_enrolled_in_school</th>\n",
       "      <th>private_school_percent_est_15_to_17_enrolled_in_school</th>\n",
       "    </tr>\n",
       "  </thead>\n",
       "  <tbody>\n",
       "    <tr>\n",
       "      <th>0</th>\n",
       "      <td>South Region</td>\n",
       "      <td>East South Central Division</td>\n",
       "      <td>Alabama</td>\n",
       "      <td>193273</td>\n",
       "      <td>187386</td>\n",
       "      <td>97.0</td>\n",
       "      <td>166626</td>\n",
       "      <td>88.9</td>\n",
       "      <td>20760</td>\n",
       "      <td>11.1</td>\n",
       "    </tr>\n",
       "    <tr>\n",
       "      <th>1</th>\n",
       "      <td>West Region</td>\n",
       "      <td>Pacific Division</td>\n",
       "      <td>Alaska</td>\n",
       "      <td>29834</td>\n",
       "      <td>28771</td>\n",
       "      <td>96.4</td>\n",
       "      <td>26298</td>\n",
       "      <td>91.4</td>\n",
       "      <td>2473</td>\n",
       "      <td>8.6</td>\n",
       "    </tr>\n",
       "  </tbody>\n",
       "</table>\n",
       "</div>"
      ],
      "text/plain": [
       "         region                     division    state  tot_est_pop_15_to_17  \\\n",
       "0  South Region  East South Central Division  Alabama                193273   \n",
       "1   West Region             Pacific Division   Alaska                 29834   \n",
       "\n",
       "   tot_est_pop_15_to_17_enrolled_in_school  \\\n",
       "0                                   187386   \n",
       "1                                    28771   \n",
       "\n",
       "   percent_est_pop_15_to_17_enrolled_in_school  \\\n",
       "0                                         97.0   \n",
       "1                                         96.4   \n",
       "\n",
       "   public_school_est_pop_15_to_17_enrolled_in_school  \\\n",
       "0                                             166626   \n",
       "1                                              26298   \n",
       "\n",
       "   public_school_percent_est_15_to_17_enrolled_in_school  \\\n",
       "0                                               88.9       \n",
       "1                                               91.4       \n",
       "\n",
       "   private_school_est_pop_15_to_17_enrolled_in_school  \\\n",
       "0                                              20760    \n",
       "1                                               2473    \n",
       "\n",
       "   private_school_percent_est_15_to_17_enrolled_in_school  \n",
       "0                                               11.1       \n",
       "1                                                8.6       "
      ]
     },
     "execution_count": 89,
     "metadata": {},
     "output_type": "execute_result"
    }
   ],
   "source": [
    "geog.head(2)"
   ]
  },
  {
   "cell_type": "code",
   "execution_count": 90,
   "metadata": {
    "scrolled": true
   },
   "outputs": [
    {
     "data": {
      "text/plain": [
       "state                                                      object\n",
       "region                                                     object\n",
       "division                                                   object\n",
       "a17_participation                                         float64\n",
       "a17_english                                               float64\n",
       "a17_math                                                  float64\n",
       "a17_reading                                               float64\n",
       "a17_science                                               float64\n",
       "a17_composite                                             float64\n",
       "s17_participation                                         float64\n",
       "s17_reading_writing                                         int64\n",
       "s17_math                                                    int64\n",
       "s17_total                                                   int64\n",
       "a18_participation                                         float64\n",
       "a18_composite                                             float64\n",
       "s18_participation                                         float64\n",
       "s18_reading_writing                                         int64\n",
       "s18_math                                                    int64\n",
       "s18_total                                                   int64\n",
       "act_percent_change                                        float64\n",
       "sat_percent_change                                        float64\n",
       "tot_est_pop_15_to_17                                        int64\n",
       "tot_est_pop_15_to_17_enrolled_in_school                     int64\n",
       "percent_est_pop_15_to_17_enrolled_in_school               float64\n",
       "public_school_est_pop_15_to_17_enrolled_in_school           int64\n",
       "public_school_percent_est_15_to_17_enrolled_in_school     float64\n",
       "private_school_est_pop_15_to_17_enrolled_in_school          int64\n",
       "private_school_percent_est_15_to_17_enrolled_in_school    float64\n",
       "dtype: object"
      ]
     },
     "execution_count": 90,
     "metadata": {},
     "output_type": "execute_result"
    }
   ],
   "source": [
    "geog = pd.read_csv(\"../data/region_and_pop - Sheet1.csv\")\n",
    "\n",
    "final.insert(1, 'division', 'value', allow_duplicates=False)\n",
    "final.insert(1, 'region', 'value', allow_duplicates=False)\n",
    "\n",
    "final.insert(19, 'act_percent_change', 'value', allow_duplicates=False)\n",
    "final.insert(20, 'sat_percent_change', 'value', allow_duplicates=False)\n",
    "\n",
    "final.loc[:,'act_percent_change'] = (((final['a18_participation']/final['a17_participation'])/final['a18_participation'])*100)*.01\n",
    "final.loc[:,'sat_percent_change'] = (((final['s18_participation']/final['s17_participation'])/final['s18_participation'])*100)*.01\n",
    "\n",
    "final.insert(21, 'tot_est_pop_15_to_17', 'value', allow_duplicates=False)\n",
    "final.insert(22, 'tot_est_pop_15_to_17_enrolled_in_school', 'value', allow_duplicates=False)\n",
    "final.insert(23, 'percent_est_pop_15_to_17_enrolled_in_school', 'value', allow_duplicates=False)\n",
    "final.insert(24, 'public_school_est_pop_15_to_17_enrolled_in_school', 'value', allow_duplicates=False)\n",
    "final.insert(25, 'public_school_percent_est_15_to_17_enrolled_in_school', 'value', allow_duplicates=False)\n",
    "final.insert(26, 'private_school_est_pop_15_to_17_enrolled_in_school', 'value', allow_duplicates=False)\n",
    "final.insert(27, 'private_school_percent_est_15_to_17_enrolled_in_school', 'value', allow_duplicates=False)\n",
    "\n",
    "final.update(geog, join='left', overwrite=True, filter_func=None, errors='ignore')\n",
    "\n",
    "final['tot_est_pop_15_to_17'] = final['tot_est_pop_15_to_17'].map(lambda x_cell: int(x_cell)) \n",
    "final['tot_est_pop_15_to_17_enrolled_in_school'] = final['tot_est_pop_15_to_17_enrolled_in_school'].map(lambda x_cell: int(x_cell)) \n",
    "final['percent_est_pop_15_to_17_enrolled_in_school'] = final['percent_est_pop_15_to_17_enrolled_in_school'].map(lambda x_cell: float(x_cell)) \n",
    "final['public_school_est_pop_15_to_17_enrolled_in_school'] = final['public_school_est_pop_15_to_17_enrolled_in_school'].map(lambda x_cell: int(x_cell)) \n",
    "final['public_school_percent_est_15_to_17_enrolled_in_school'] = final['public_school_percent_est_15_to_17_enrolled_in_school'].map(lambda x_cell: float(x_cell)) \n",
    "final['private_school_est_pop_15_to_17_enrolled_in_school'] = final['private_school_est_pop_15_to_17_enrolled_in_school'].map(lambda x_cell: int(x_cell)) \n",
    "final['private_school_percent_est_15_to_17_enrolled_in_school'] = final['private_school_percent_est_15_to_17_enrolled_in_school'].map(lambda x_cell: float(x_cell)) \n",
    "\n",
    "final.update(geog, join='left', overwrite=True, filter_func=None, errors='ignore')\n",
    "\n",
    "final.dtypes"
   ]
  },
  {
   "cell_type": "code",
   "execution_count": 91,
   "metadata": {},
   "outputs": [],
   "source": [
    "final.to_csv('../data/complete_with_new_variables.csv') "
   ]
  },
  {
   "cell_type": "markdown",
   "metadata": {},
   "source": [
    "# -----------------------------------------------------------------------------------------"
   ]
  },
  {
   "cell_type": "markdown",
   "metadata": {},
   "source": [
    "#### Use Seaborn's heatmap with pandas `.corr()` to visualize correlations between all numeric features\n",
    "\n",
    "Heatmaps are generally not appropriate for presentations, and should often be excluded from reports as they can be visually overwhelming. **However**, they can be extremely useful in identify relationships of potential interest (as well as identifying potential collinearity before modeling).\n",
    "\n",
    "*example*:\n",
    "```python\n",
    "sns.heatmap(df.corr())\n",
    "```\n",
    "\n",
    "Please take time to format your output, adding a title. Look through some of the additional arguments and options. (Axis labels aren't really necessary, as long as the title is informative)."
   ]
  },
  {
   "cell_type": "code",
   "execution_count": 92,
   "metadata": {},
   "outputs": [
    {
     "data": {
      "image/png": "[encoded data removed]",
      "text/plain": [
       "<Figure size 432x288 with 2 Axes>"
      ]
     },
     "metadata": {
      "needs_background": "light"
     },
     "output_type": "display_data"
    }
   ],
   "source": [
    "sns.heatmap(final.corr());"
   ]
  },
  {
   "cell_type": "markdown",
   "metadata": {},
   "source": [
    "#### Define a custom function to subplot histograms\n",
    "\n",
    "We have data for two tests for two years. We only have composite (and not subtest scores) for the 2018 ACT. We should write a function that will take the names of 2+ columns and subplot histograms. While you can use pandas plotting or Seaborn here, matplotlib gives you greater control over all aspects of your plots.\n",
    "\n",
    "[Helpful Link for Plotting Multiple Figures](https://matplotlib.org/users/pyplot_tutorial.html#working-with-multiple-figures-and-axes)\n",
    "\n",
    "Here's some starter code:"
   ]
  },
  {
   "cell_type": "code",
   "execution_count": 93,
   "metadata": {},
   "outputs": [],
   "source": [
    "#Inserted a \")\" in line two\n",
    "def subplot_histograms(dataframe, list_of_columns, list_of_titles, list_of_xlabels):\n",
    "    nrows = int(np.ceil(len(list_of_columns)/2))  \n",
    "    fig, ax = plt.subplots(nrows=nrows, ncols=2)  \n",
    "    ax = ax.ravel()  \n",
    "    for i, column in enumerate(list_of_columns):  \n",
    "        ax[i].hist(dataframe[column])  \n",
    "plt.show()\n"
   ]
  },
  {
   "cell_type": "markdown",
   "metadata": {},
   "source": [
    "#### Plot and interpret histograms \n",
    "For each of the following:\n",
    "- Participation rates for SAT & ACT\n",
    "- Math scores for SAT & ACT\n",
    "- Reading/verbal scores for SAT & ACT"
   ]
  },
  {
   "cell_type": "code",
   "execution_count": 94,
   "metadata": {},
   "outputs": [
    {
     "data": {
      "image/png": "[encoded data removed]",
      "text/plain": [
       "<Figure size 432x288 with 4 Axes>"
      ]
     },
     "metadata": {
      "needs_background": "light"
     },
     "output_type": "display_data"
    }
   ],
   "source": [
    "subplot_histograms(final, \n",
    "                   ['s17_participation','s18_participation', 'a17_participation', 'a18_participation'],\n",
    "                   ['SAT 2017', 'SAT 2018', 'ACT 2017', 'ACT 2018'],\n",
    "                   ['Participation Percentage','Participation Percentage', 'Participation Percentage', 'Participation Percentage'],\n",
    "                  #title('SAT and ACT participation and total scores')\n",
    "                  )"
   ]
  },
  {
   "cell_type": "markdown",
   "metadata": {},
   "source": [
    "#### Plot and interpret scatter plots\n",
    "\n",
    "For each of the following:\n",
    "- SAT vs. ACT math scores for 2017\n",
    "- SAT vs. ACT verbal/reading scores for 2017\n",
    "- SAT vs. ACT total/composite scores for 2017\n",
    "- Total scores for SAT 2017 vs. 2018\n",
    "- Composite scores for ACT 2017 vs. 2018\n",
    "\n",
    "Plot the two variables against each other using matplotlib or Seaborn\n",
    "\n",
    "Your plots should show:\n",
    "- Two clearly labeled axes\n",
    "- A proper title\n",
    "- Using colors and symbols that are clear and unmistakable\n",
    "\n",
    "**Feel free to write a custom function, and subplot if you'd like.** Functions save both time and space.\n"
   ]
  },
  {
   "cell_type": "code",
   "execution_count": 95,
   "metadata": {},
   "outputs": [
    {
     "data": {
      "image/png": "[encoded data removed]",
      "text/plain": [
       "<Figure size 1152x648 with 1 Axes>"
      ]
     },
     "metadata": {
      "needs_background": "light"
     },
     "output_type": "display_data"
    }
   ],
   "source": [
    "plt.figure(figsize=(16, 9))\n",
    "plt.scatter(final['s17_math'],\n",
    "            final['a17_math']);\n",
    "plt.title(\"Comparison of 2017 SAT and ACT Math Scores \\nfor 50 States and the District of Columbia\", fontsize = 30)\n",
    "plt.ylabel(\"SAT Math Score\", rotation = 90, fontsize = 20)\n",
    "plt.xlabel(\"ACT Math Score\", fontsize = 20);"
   ]
  },
  {
   "cell_type": "code",
   "execution_count": 96,
   "metadata": {},
   "outputs": [
    {
     "data": {
      "image/png": "[encoded data removed]",
      "text/plain": [
       "<Figure size 1152x648 with 1 Axes>"
      ]
     },
     "metadata": {
      "needs_background": "light"
     },
     "output_type": "display_data"
    }
   ],
   "source": [
    "plt.figure(figsize=(16, 9))\n",
    "plt.scatter(final['s17_reading_writing'],\n",
    "            final['a17_reading']);\n",
    "plt.title(\"Comparison of 2017 SAT and ACT Reading Scores \\nfor 50 States and the District of Columbia\", fontsize = 30)\n",
    "plt.ylabel(\"SAT Reading Score\", rotation = 90, fontsize = 20)\n",
    "plt.xlabel(\"ACT Reading Score\", fontsize = 20);"
   ]
  },
  {
   "cell_type": "code",
   "execution_count": 97,
   "metadata": {},
   "outputs": [
    {
     "data": {
      "image/png": "[encoded data removed]",
      "text/plain": [
       "<Figure size 1152x648 with 1 Axes>"
      ]
     },
     "metadata": {
      "needs_background": "light"
     },
     "output_type": "display_data"
    }
   ],
   "source": [
    "plt.figure(figsize=(16, 9))\n",
    "plt.scatter(final['s17_total'],\n",
    "            final['a17_composite']);\n",
    "plt.title(\"Comparison of 2017 SAT and ACT total/composite Scores \\nfor 50 States and the District of Columbia\", fontsize = 30)\n",
    "plt.ylabel(\"SAT Total Score\", rotation = 90, fontsize = 20)\n",
    "plt.xlabel(\"ACT Composite Score\", fontsize = 20);"
   ]
  },
  {
   "cell_type": "code",
   "execution_count": 98,
   "metadata": {},
   "outputs": [
    {
     "data": {
      "image/png": "[encoded data removed]",
      "text/plain": [
       "<Figure size 1152x648 with 1 Axes>"
      ]
     },
     "metadata": {
      "needs_background": "light"
     },
     "output_type": "display_data"
    }
   ],
   "source": [
    "plt.figure(figsize=(16, 9))\n",
    "plt.scatter(final['s18_total'],\n",
    "            final['a18_composite']);\n",
    "plt.title(\"Comparison of 2017 and 2018 total Scores \\nfor 50 States and the District of Columbia\", fontsize = 30)\n",
    "plt.ylabel(\"2017 SAT Total Score\", rotation = 90, fontsize = 20)\n",
    "plt.xlabel(\"2018 SAT Total Score\", fontsize = 20);"
   ]
  },
  {
   "cell_type": "code",
   "execution_count": 99,
   "metadata": {},
   "outputs": [
    {
     "data": {
      "image/png": "[encoded data removed]",
      "text/plain": [
       "<Figure size 1152x648 with 1 Axes>"
      ]
     },
     "metadata": {
      "needs_background": "light"
     },
     "output_type": "display_data"
    }
   ],
   "source": [
    "plt.figure(figsize=(16, 9))\n",
    "plt.scatter(final['a17_composite'],\n",
    "            final['a18_composite']);\n",
    "plt.title(\"Comparison of 2017 and 2018 ACT composite Scores \\nfor 50 States and the District of Columbia\", fontsize = 30)\n",
    "plt.ylabel(\"2017 ACT Composite Score\", rotation = 90, fontsize = 20)\n",
    "plt.xlabel(\"2018 ACT Composite Score\", fontsize = 20);"
   ]
  },
  {
   "cell_type": "markdown",
   "metadata": {},
   "source": [
    "#### Plot and interpret boxplots\n",
    "\n",
    "For each numeric variable in the dataframe create a boxplot using Seaborn. Boxplots demonstrate central tendency and spread in variables. In a certain sense, these are somewhat redundant with histograms, but you may be better able to identify clear outliers or differences in IQR, etc.\n",
    "\n",
    "Multiple values can be plotted to a single boxplot as long as they are of the same relative scale (meaning they have similar min/max values).\n",
    "\n",
    "Each boxplot should:\n",
    "- Only include variables of a similar scale\n",
    "- Have clear labels for each variable\n",
    "- Have appropriate titles and labels"
   ]
  },
  {
   "cell_type": "code",
   "execution_count": 100,
   "metadata": {},
   "outputs": [
    {
     "data": {
      "image/png": "[encoded data removed]",
      "text/plain": [
       "<Figure size 432x288 with 1 Axes>"
      ]
     },
     "metadata": {},
     "output_type": "display_data"
    }
   ],
   "source": [
    "sns.set(style=\"whitegrid\")\n",
    "ax1 = sns.boxplot(data = final[['a17_math', 'a17_english', 'a17_reading', 'a17_science']])\n",
    "plt.title(\"Comparrison of 2017 ACT Subject Area Scores \\nfor 50 States and the District of Columbia\", fontsize = 15);"
   ]
  },
  {
   "cell_type": "code",
   "execution_count": 101,
   "metadata": {
    "scrolled": true
   },
   "outputs": [
    {
     "data": {
      "image/png": "[encoded data removed]",
      "text/plain": [
       "<Figure size 432x288 with 1 Axes>"
      ]
     },
     "metadata": {},
     "output_type": "display_data"
    }
   ],
   "source": [
    "sns.set(style=\"whitegrid\")\n",
    "ax1 = sns.boxplot(data = final[['a17_composite', 'a18_composite']])\n",
    "plt.title(\"Comparrison of 2017 and 2018 ACT Composite Scores \\nfor 50 States and the District of Columbia\", fontsize = 15);"
   ]
  },
  {
   "cell_type": "code",
   "execution_count": 102,
   "metadata": {},
   "outputs": [
    {
     "data": {
      "image/png": "[encoded data removed]",
      "text/plain": [
       "<Figure size 432x288 with 1 Axes>"
      ]
     },
     "metadata": {},
     "output_type": "display_data"
    }
   ],
   "source": [
    "sns.set(style=\"whitegrid\")\n",
    "ax1 = sns.boxplot(data = final[['s17_reading_writing', 's17_math']])\n",
    "plt.title(\"Comparrision of 2017 SAT Subject Area Scores \\nfor 50 States and the District of Columbia\", fontsize = 15);"
   ]
  },
  {
   "cell_type": "code",
   "execution_count": 103,
   "metadata": {},
   "outputs": [
    {
     "data": {
      "image/png": "[encoded data removed]",
      "text/plain": [
       "<Figure size 432x288 with 1 Axes>"
      ]
     },
     "metadata": {},
     "output_type": "display_data"
    }
   ],
   "source": [
    "sns.set(style=\"whitegrid\")\n",
    "ax1 = sns.boxplot(data = final[['s18_reading_writing', 's18_math']])\n",
    "plt.title(\"Comparrision of 2018 SAT Subject Area Scores \\nfor 50 States and the District of Columbia\", fontsize = 15);"
   ]
  },
  {
   "cell_type": "code",
   "execution_count": 104,
   "metadata": {},
   "outputs": [
    {
     "data": {
      "image/png": "[encoded data removed]",
      "text/plain": [
       "<Figure size 432x288 with 1 Axes>"
      ]
     },
     "metadata": {},
     "output_type": "display_data"
    }
   ],
   "source": [
    "sns.set(style=\"whitegrid\")\n",
    "ax1 = sns.boxplot(data = final[['s17_total', 's18_total']])\n",
    "plt.title(\"Comparrison of 2017 and 2018 SAT Total Scores \\nfor 50 States and the District of Columbia\", fontsize = 15);"
   ]
  },
  {
   "cell_type": "code",
   "execution_count": 105,
   "metadata": {},
   "outputs": [
    {
     "data": {
      "image/png": "[encoded data removed]",
      "text/plain": [
       "<Figure size 679.35x432 with 1 Axes>"
      ]
     },
     "metadata": {},
     "output_type": "display_data"
    }
   ],
   "source": [
    "ax1 = sns.relplot(x='a17_participation', y='a17_composite', hue=\"region\", size=\"tot_est_pop_15_to_17_enrolled_in_school\",\n",
    "            sizes=(40, 400), alpha=.5, palette=\"muted\",\n",
    "            height=6, data=final);\n",
    "plt.title('Comparrision of Statewide Participation \\nand Total Scores in the 2017 ACT', size =15);"
   ]
  },
  {
   "cell_type": "code",
   "execution_count": 106,
   "metadata": {},
   "outputs": [
    {
     "data": {
      "image/png": "[encoded data removed]",
      "text/plain": [
       "<Figure size 679.35x432 with 1 Axes>"
      ]
     },
     "metadata": {},
     "output_type": "display_data"
    }
   ],
   "source": [
    "ax2 = sns.relplot(x='s17_participation', y='s17_total', hue=\"region\", size=\"tot_est_pop_15_to_17_enrolled_in_school\",\n",
    "            sizes=(40, 400), alpha=.5, palette=\"muted\",\n",
    "            height=6, data=final)\n",
    "plt.title('Comparrision of Statewide Participation \\nand Total Scores in the 2017 SAT', size =15);"
   ]
  },
  {
   "cell_type": "markdown",
   "metadata": {},
   "source": [
    "## Descriptive and Inferential Statistics"
   ]
  },
  {
   "cell_type": "markdown",
   "metadata": {},
   "source": [
    "#### Summarizing Distributions\n",
    "\n",
    "Above, we used pandas `describe` to provide quick summary statistics of our numeric columns. We also demonstrated many visual relationships.\n",
    "\n",
    "As data scientists, having a complete understanding of data is imperative prior to modeling.\n",
    "\n",
    "While we will continue to build our analytic tools, we know that measures of *central tendency*, *spread*, and *shape/skewness* provide a quick summary of distributions.\n",
    "\n",
    "For each variable in your data, summarize the underlying distributions (in words & statistics)\n",
    " - Be thorough in your verbal description of these distributions.\n",
    " - Be sure to back up these summaries with statistics."
   ]
  },
  {
   "cell_type": "markdown",
   "metadata": {},
   "source": [
    "> **Answers:**\n",
    ">\n",
    ">Participation:  This variable has a mean of .65 but a kurtosis of -1.59 as it has many outliers that prevent a single central peak. The variable also has a negative skewness as many states have 100% participation in the ACT.  The actual value of the skewness -0.19.  While the mean is somewhat centralized, this is because of a wide distribution across the sample. The actual minimum value of this variable is 0.08 meaning that although there are states with low participation, all states have some degree of participation .    \n",
    ">\n",
    ">English:  This variable has minimum of 16.3 and maximum of 25.5.  The skewness of the variable at 0.34 means that the mode value (if one exists) lie to the left of the mean.  Like the mean value of 20.93, the standard deviation of 2.35 is sensitive to very high or low values.  This is because the standard deviation is based on the distance from the mean. \n",
    ">\n",
    ">Math:  This variable has a range of 7.3, which represents the difference between the minimum and maximum values.  The median value of 20.9 is lower than the mean value of 21.18 which indicates a positive skew.  Indeed, the skew of 0.32 shows quantitatively that there is a “longer tail” to the right side of the graph.  This was then confirmed by applying a histogram to the variable.  \n",
    ">\n",
    ">Reading: Like the 2017 ACT English variable, this variable has one of the higher standard deviation values of the dataset.  The standard deviation of 2.06 indicates that the values within this variable are spread out across its range.  The skewness is a positive 0.26 indicating the “peak” to of the histogram lay to left of the median value.  The negative kurtosis of -1.00 is also similar to that of the math score indicating that both variables have a “flatter” distribution than a curve with similar mean and standard deviations. \n",
    ">\n",
    ">Science:  Science has a median value of 21.30 and a mean value of 21.46.  While these values are both measures of central tendency, the mean is sensitive to outliers.  The median value on the other hand is the actual middle value (the 50th percentile).  The interquartile range (IQR) is the area that lay between the 25th and 75th percentile.  It is useful in predicting outliers and is where the majority of ones data may be found.  \n",
    ">\n",
    ">Composite: The composite 2017 ACT has a mean of 21.51.  It is higher than the mean values of science, english, and math, but lower than the 2017 ACT reading score.  If the composite score is the calculation of mean subject area scores this would explain the mean composite value. The composite score like other scores provided for the ACT is a floating point variable which means it may be difficult to get a mode value, even so three states have a composite score of exactly 19.8.  The dense cluster of peaks in the composite histogram signify that there may be other states who are also quite close to this value.   \n",
    ">\n",
    ">SAT 2017\n",
    ">\n",
    ">Participation:  The 2017 SAT had 17 states with a value of 1.0 (representing 100% participation).  As the value with the greatest occurrence in the variable this was also the mode value.  Such a strong shift to the right led to a kurtosis of -1.59 and a skew of -0.19.  The actual mean value was however only 65.25%.  This is because there is also a significant number of states with very low participation values. \n",
    ">\n",
    ">Reading and Writing: The SAT differs from the ACT in several ways, including the scale of its  measurement.  Whereas the ACT uses a scale from 0-36, the SAT uses a scale from 200-800.  Even though the scale of the units is different, all of the same statistical tools may be used.  The distinction between units is important however, as standard deviation is measured in the same units as the variable itself.  Although the standard deviation of SAT reading and writing is 45.67 it is not necessarily 20 times larger than the standard deviation of the ACT 2017 reading standard deviation.  \n",
    ">\n",
    ">Math: The 2017 SAT math variable has a maximum value of 651 and a mean of 556.89.  Compared to the previous variable’s maximum of 644 and mean of 569.12 we can discern that some states scored much higher in math than other and that the majority of states scored much lower and may be grouped together.  This was supported by a histogram visualization of the 2017 SAT math variable.       \n",
    ">\n",
    ">Total:  The total of the 2017 SAT is the sum total of the two previous variables.  As such a normalization is necessary to compare this value to either of the previous two variables.  The positive skewness of the SAT total identifies a “fat” left tail with a greater density of values.  Its kurtosis of -1.12 indicates that its tails are heavy, the distribution is broad, and the peak is broader and wider than if it was a normal curve.  \n",
    ">\n",
    ">ACT 2018\n",
    ">\n",
    ">Participation: Like the 2017 ACT participation variable, the 2018 participation variable has a high degree of skewness caused by many states with a 100% participation rate.  Although one may expect the mode of 17 states with complete participation have shifted the mean value to a level higher than the median value, this is not the case.  The median value of 66% remains higher due to a dense cluster of states with a participation rate close to 30%.  The actual mean value is 61.73%.  This variable is a great example of how visualizations may become misleading tools when not supplemented by descriptive statistics.    \n",
    ">\n",
    ">Composite:  The 2018 ACT composite score of 21.49 is nearly identical to the 2017 score of 21.51.  Even though the mean values and standard deviations of each are similar, this does not mean that there is no significant difference between the two variables!  Calculating significant difference is another statistical test entirely. The small standard deviation here means that the values are close to the mean of the data set.  The interquartile range of the composite score is from 19.95 to 23.65 with the median value falling at 21.3.  The similarities of the mean and median values show that there is little effect from outliers on the mean and that the variable is well balanced.  Even so, there is not a distinct standard normal curve in the variable as the kurtosis remains at -1.12. \n",
    ">\n",
    ">SAT 2018\n",
    ">\n",
    ">Participation:   Like similar variables in the data frame this participation variable has density at the far ends of the variable.  This results in a mean of 45.75% and a median of .52.  The high number of states with little participation lead to the mean being pulled lower than the “true middle” number of the variable.  \n",
    ">\n",
    ">Reading and Writing:  The 2018 reading and writing SAT variable has a kurtosis of -1.07 and skew of 0.23.  The minimum and maximum values are 480 and 643 which is similar to that of the 2017 variable for reading and writing.  The overall range is 163.  \n",
    ">\n",
    ">Math The positive skew of the math variable indicates that there is a fatter tail to the left side of the histogram.  The variable is moderately skewed but less so than other variables.  The mean value being higher than the median is indicative of dense higher values.\n",
    ">\n",
    ">Total: The maximum value of this variable is close to that of its 2017 counterpart, but the lower 75% means that the majority of variables did not score as highly in 2018.  The trend of scores centralizing around the median value is also presented by the minimum value increasing while the 25th percentile stayed very similar to that of 2017. \n",
    ">\n",
    "\n",
    "\n",
    "\n",
    "\n",
    "\n",
    "\n"
   ]
  },
  {
   "cell_type": "markdown",
   "metadata": {},
   "source": [
    "#### We generally assuming that data we sample from a population will be normally distributed. Do we observe this trend?"
   ]
  },
  {
   "cell_type": "markdown",
   "metadata": {},
   "source": [
    ">The central limit theorm tells us that as more data is introduced we are more likely to see distributions that are less affected by extremes.  The results of the sample are however influenced by the charateristics of the population it is drawn from.  In our case the population is only students who have taken either the SAT or ACT.  Although we may use tools like statistical tests to describe the data, there are limitations to what we may extrapolate from it.  "
   ]
  },
  {
   "cell_type": "markdown",
   "metadata": {},
   "source": [
    "Does This Assumption Hold for:\n",
    "    - Math\n",
    "    - Reading\n",
    "    - Rates\n",
    "Explain your answers for each distribution and how you think this will affect estimates made from these data."
   ]
  },
  {
   "cell_type": "markdown",
   "metadata": {},
   "source": [
    ">The SAT math and reading variables may not be compared to the participation variables as they are not represntative of the same information.  Particiaption rates are percentages while the subject areas are presented in units of points for the tests. As such participation is never evenly distributed.  Each math and reading score has its own distictive distribution, however most tend to have some centralized distribution.  "
   ]
  },
  {
   "cell_type": "markdown",
   "metadata": {},
   "source": [
    "#### Estimate Limits of Data\n",
    "\n",
    "Suppose we only seek to understand the relationship between SAT and ACT participation rates in 2017. \n",
    "\n",
    "##### Does it make sense to conduct statistical inference given these data specifically? \n",
    "\n",
    "Why or why not?\n",
    "\n",
    "*(think about granularity, aggregation, the relationships between populations size & rates...consider the actually populations these data describe in answering this question)*"
   ]
  },
  {
   "cell_type": "markdown",
   "metadata": {},
   "source": [
    ">There are limitations to the data provided that limits the amount of rational testing available. For example, if two states are similar in population and particiaption percentage then trends may be compared among those states.  Comparrisons bewteen the datasets are more complicated.  The tests have a different number of sections and the presence of a science test in the ACT and not the SAT means that the composite score/total score may also not provide a 1:1 comparrision.  Even percent change is complicated by having only two years of data available.  Even so the data may provide a snapshot of the specific years and information available. One should be cautious though in comparing states as some states may have equally large participation, but vastly different demographics that are not presented by the data.  "
   ]
  },
  {
   "cell_type": "markdown",
   "metadata": {},
   "source": [
    "##### Is it appropriate to compare *these* specific SAT and ACT math scores? \n",
    "\n",
    "Why or why not?"
   ]
  },
  {
   "cell_type": "markdown",
   "metadata": {},
   "source": [
    ">Yes and no.  Although both tests may be used to assess a students comprehension of critical math skills, the tests do so in different ways.  The SAT asks 58 questions in 80 minutes and allows students to use a calculator for about half of the math questions.  The SAT provides a section that does not allow the use of a calculator and a section that does allow the use of a calculator.  This may functions as a way to test students ability to use tools as well as offer an avenue to focus less on arithmetic and more on mathematical processes. Longer questions may test a students ability to identify key information The ability to read charts and graphs is tested in the SAT, but not the ACT.  The ACT asks students 60 questions in 60 minutes without the use of a calculator.  It asks questions on data collection and allows a calculator throughout the entire math section.  Like the ACT it tests geometry, but focuses more on the application and use of formulas to calculate volumes.  The ACT also provides no reference sheet for students taking the test which means there is a greater emphasis on rote memory.    \n",
    ">\n",
    ">Unfortunately data provided on test scores was provided in aggregate.  Without a finer level of information one may not be able to rationally determine how these math scores relate to one another.  Anonymized random samples of student data may reveal a relationship between SAT and ACT scores, however this would require students to take both exams and for test administrators to be willing to provide that data.  Ultimately one may be better off comparing each test only to itself.     "
   ]
  },
  {
   "cell_type": "markdown",
   "metadata": {},
   "source": [
    "#### Statistical Evaluation of Distributions \n",
    "\n",
    "**If you feel it's appropriate**, using methods we discussed in class, run hypothesis tests to compare variables of interest in our dataset. "
   ]
  },
  {
   "cell_type": "markdown",
   "metadata": {},
   "source": [
    "## Outside Research"
   ]
  },
  {
   "cell_type": "markdown",
   "metadata": {},
   "source": [
    "Based upon your observations, choose **three** states that demonstrate interesting trends in their SAT and/or ACT participation rates. Spend some time doing outside research on state policies that might influence these rates, and summarize your findings below. **Feel free to go back and create new plots that highlight these states of interest**. If you bring in any outside tables or charts, make sure you are explicit about having borrowed them. If you quote any text, make sure that it renders as being quoted. (Make sure that you cite your sources -- check with you local instructor for citation preferences)."
   ]
  },
  {
   "cell_type": "markdown",
   "metadata": {},
   "source": [
    ">Illinois and Colorado:  These states saw the greatest percent increase from 2017 to 2018.  They also saw the greatest percent decrease in ACT participation.  These changes in participation may linked as one test infiltrates the market and competes for students limited test preparation time.    \n",
    ">\n",
    ">Washington DC:  In 2017, DC had a 100% SAT participation rate.  In 2018, it had a 91% participation rate.  As DC has a very small population of students ages 15-17 changes in participation are likely to appear more quickly than in larger states like California, New York, and Texas.  \n",
    ">\n",
    ">Nationally, there is a negative trend in the SAT data whereby states with higher levels of participation have lower total scores.  Although the p-value is less than 0.0001 the r-squared is only 0.6.  This low r-squared value indicates that there are many other linkages between the two variables that have not been tested by this bivariate model.  Also, over the last five years there have been a number of changes to the scoring of both the SAT and ACT.  While we would like to believe that all people are rational decision makers and that there is clear reason for students to take one exam over the other, bounded rationality may lead some students, parents, and admissions officers to unconsciously favor one test.  For students, a limited amount of time to prepare for either exam means that they may choose to take the exam they are most comfortable or familiar with. Parents, on the other hand may have limited information on either test and feel pressure to support their children with either decision.  Finally, admissions counselors and teachers may have their own unconscious bias based on past experiences with the exam administrators or work in education.\n"
   ]
  },
  {
   "cell_type": "markdown",
   "metadata": {},
   "source": [
    "## Conclusions and Recommendations"
   ]
  },
  {
   "cell_type": "markdown",
   "metadata": {},
   "source": [
    "Based on your exploration of the data, what are you key takeaways and recommendations? Choose one state with a lower participation rate and provide a suggestion for how the College Board might increase participation amongst graduating seniors in this state. Are there additional data you desire that would better inform your investigations?"
   ]
  },
  {
   "cell_type": "markdown",
   "metadata": {},
   "source": [
    ">In spite of negative press, and misleading rhetoric linking higher statewide SAT participation with lower statewide SAT scores, participation in the SAT increased nationally from 2017-2018. In order to continue this growth, I propose that the College Board strengthen existing relationships while advancing into new markets, so that national participation in the SAT does not fall behind that of its rival the ACT.\n",
    ">\n",
    ">These recommendations are supported by the growth of SAT participation in Illinois and Colorado.  These states saw a sharp rise in SAT participation along with a decline in ACT participation.  In other parts of the United States SAT participation remained mostly the same, with only a small decrease in most declining states.  \n",
    ">\n",
    ">Participation percentage alone is not enough to determine the growth of the SAT.  Full participation in very large states may be more valuable than full participation in several small states, but this does not mean that the College Board should write off smaller states.  In places like Washington DC there may be an induced effect from market saturation.  SAT participation in 2017 was at 100% in Washington DC but only 91% in 2018.  Immediate action to reverse this decline may help to sustain the momentum the College Board is building in other parts of the country.    \n",
    ">\n",
    ">Broadly speaking, the SAT appears to have fairly constant growth across the United States with deep market penetration in some places, while the ACT has full participation in a greater number of states but less growth overall.  This stagnation in ACT momentum may be leveraged as ACT Inc becomes complacent.  My recommendations are that the College Board continue to develop a mindset for growth and publicize the participation of states like Illinois and Colorado, while investing new resources into Washington DC and similar states."
   ]
  }
 ],
 "metadata": {
  "anaconda-cloud": {},
  "kernelspec": {
   "display_name": "Python 3",
   "language": "python",
   "name": "python3"
  },
  "language_info": {
   "codemirror_mode": {
    "name": "ipython",
    "version": 3
   },
   "file_extension": ".py",
   "mimetype": "text/x-python",
   "name": "python",
   "nbconvert_exporter": "python",
   "pygments_lexer": "ipython3",
   "version": "3.6.8"
  }
 },
 "nbformat": 4,
 "nbformat_minor": 2
}
